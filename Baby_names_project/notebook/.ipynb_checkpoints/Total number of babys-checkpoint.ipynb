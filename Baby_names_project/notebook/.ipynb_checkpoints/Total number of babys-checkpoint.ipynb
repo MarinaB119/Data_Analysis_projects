{
 "cells": [
  {
   "cell_type": "markdown",
   "id": "c4965f66-6c8d-4a8b-a988-dcac978a1219",
   "metadata": {},
   "source": [
    "### Total number of babies in specific years"
   ]
  },
  {
   "cell_type": "code",
   "execution_count": 1,
   "id": "10c9dbab-1099-4856-8a02-40ddc3846ba8",
   "metadata": {},
   "outputs": [],
   "source": [
    "#Using your parse_dataset() function write a program that calculates the total number of babys for the year 2020 and prints the number to the screen. Make sure to select the correct column to sum.\n",
    "#Do the same for 1950 and compare the results\n",
    "#What other interesting insights can you find about about a year using some of pandas methods?"
   ]
  },
  {
   "cell_type": "code",
   "execution_count": 2,
   "id": "80815e7d-6983-4a9f-81bb-bd573303cd25",
   "metadata": {},
   "outputs": [],
   "source": [
    "import pandas as pd"
   ]
  },
  {
   "cell_type": "code",
   "execution_count": 3,
   "id": "26687d74-7ab5-4e6a-a7e8-8a3e11950acc",
   "metadata": {
    "scrolled": true
   },
   "outputs": [
    {
     "data": {
      "text/html": [
       "<div>\n",
       "<style scoped>\n",
       "    .dataframe tbody tr th:only-of-type {\n",
       "        vertical-align: middle;\n",
       "    }\n",
       "\n",
       "    .dataframe tbody tr th {\n",
       "        vertical-align: top;\n",
       "    }\n",
       "\n",
       "    .dataframe thead th {\n",
       "        text-align: right;\n",
       "    }\n",
       "</style>\n",
       "<table border=\"1\" class=\"dataframe\">\n",
       "  <thead>\n",
       "    <tr style=\"text-align: right;\">\n",
       "      <th></th>\n",
       "      <th>name</th>\n",
       "      <th>gender</th>\n",
       "      <th>frequency</th>\n",
       "    </tr>\n",
       "  </thead>\n",
       "  <tbody>\n",
       "    <tr>\n",
       "      <th>0</th>\n",
       "      <td>Linda</td>\n",
       "      <td>F</td>\n",
       "      <td>80431</td>\n",
       "    </tr>\n",
       "    <tr>\n",
       "      <th>1</th>\n",
       "      <td>Mary</td>\n",
       "      <td>F</td>\n",
       "      <td>65481</td>\n",
       "    </tr>\n",
       "    <tr>\n",
       "      <th>2</th>\n",
       "      <td>Patricia</td>\n",
       "      <td>F</td>\n",
       "      <td>47944</td>\n",
       "    </tr>\n",
       "    <tr>\n",
       "      <th>3</th>\n",
       "      <td>Barbara</td>\n",
       "      <td>F</td>\n",
       "      <td>41554</td>\n",
       "    </tr>\n",
       "    <tr>\n",
       "      <th>4</th>\n",
       "      <td>Susan</td>\n",
       "      <td>F</td>\n",
       "      <td>38016</td>\n",
       "    </tr>\n",
       "    <tr>\n",
       "      <th>...</th>\n",
       "      <td>...</td>\n",
       "      <td>...</td>\n",
       "      <td>...</td>\n",
       "    </tr>\n",
       "    <tr>\n",
       "      <th>10300</th>\n",
       "      <td>Zachery</td>\n",
       "      <td>M</td>\n",
       "      <td>5</td>\n",
       "    </tr>\n",
       "    <tr>\n",
       "      <th>10301</th>\n",
       "      <td>Zackary</td>\n",
       "      <td>M</td>\n",
       "      <td>5</td>\n",
       "    </tr>\n",
       "    <tr>\n",
       "      <th>10302</th>\n",
       "      <td>Zannie</td>\n",
       "      <td>M</td>\n",
       "      <td>5</td>\n",
       "    </tr>\n",
       "    <tr>\n",
       "      <th>10303</th>\n",
       "      <td>Zeke</td>\n",
       "      <td>M</td>\n",
       "      <td>5</td>\n",
       "    </tr>\n",
       "    <tr>\n",
       "      <th>10304</th>\n",
       "      <td>Zygmunt</td>\n",
       "      <td>M</td>\n",
       "      <td>5</td>\n",
       "    </tr>\n",
       "  </tbody>\n",
       "</table>\n",
       "<p>10305 rows × 3 columns</p>\n",
       "</div>"
      ],
      "text/plain": [
       "           name gender  frequency\n",
       "0         Linda      F      80431\n",
       "1          Mary      F      65481\n",
       "2      Patricia      F      47944\n",
       "3       Barbara      F      41554\n",
       "4         Susan      F      38016\n",
       "...         ...    ...        ...\n",
       "10300   Zachery      M          5\n",
       "10301   Zackary      M          5\n",
       "10302    Zannie      M          5\n",
       "10303      Zeke      M          5\n",
       "10304   Zygmunt      M          5\n",
       "\n",
       "[10305 rows x 3 columns]"
      ]
     },
     "execution_count": 3,
     "metadata": {},
     "output_type": "execute_result"
    }
   ],
   "source": [
    "def parse_dataset(year):\n",
    "    #opening a text file and returning a dataframe for one year \n",
    "    #year = input(f'Please input year')\n",
    "    df = pd.read_csv(f'../data/data/names/yob{year}.txt', names = [\"name\", \"gender\", \"frequency\"])\n",
    "    return df\n",
    "\n",
    "year = 1950\n",
    "\n",
    "parse_dataset(1950)"
   ]
  },
  {
   "cell_type": "code",
   "execution_count": 4,
   "id": "609a4c41-32e7-4977-9a3c-212f2c992a6b",
   "metadata": {},
   "outputs": [],
   "source": [
    "df_1950 = parse_dataset(1950)\n"
   ]
  },
  {
   "cell_type": "code",
   "execution_count": 5,
   "id": "c6029943-6e03-4000-93be-f862be3521d9",
   "metadata": {},
   "outputs": [
    {
     "data": {
      "text/plain": [
       "3503404"
      ]
     },
     "execution_count": 5,
     "metadata": {},
     "output_type": "execute_result"
    }
   ],
   "source": [
    "total_babies_1950 = df_1950[\"frequency\"].sum()\n",
    "total_babies_1950"
   ]
  },
  {
   "cell_type": "code",
   "execution_count": 6,
   "id": "12895df6-0267-44b7-aa44-775e9a0d0726",
   "metadata": {},
   "outputs": [],
   "source": [
    "df_2020 = parse_dataset(2020)"
   ]
  },
  {
   "cell_type": "code",
   "execution_count": 7,
   "id": "053cea3d-2b0d-4bb9-a010-e9881bcc5881",
   "metadata": {},
   "outputs": [
    {
     "data": {
      "text/plain": [
       "3333981"
      ]
     },
     "execution_count": 7,
     "metadata": {},
     "output_type": "execute_result"
    }
   ],
   "source": [
    "total_babies_2020 = df_2020['frequency'].sum()\n",
    "total_babies_2020\n"
   ]
  },
  {
   "cell_type": "code",
   "execution_count": 8,
   "id": "317c647f-7178-4889-affa-fdee110fa1cc",
   "metadata": {},
   "outputs": [
    {
     "data": {
      "text/html": [
       "<div>\n",
       "<style scoped>\n",
       "    .dataframe tbody tr th:only-of-type {\n",
       "        vertical-align: middle;\n",
       "    }\n",
       "\n",
       "    .dataframe tbody tr th {\n",
       "        vertical-align: top;\n",
       "    }\n",
       "\n",
       "    .dataframe thead th {\n",
       "        text-align: right;\n",
       "    }\n",
       "</style>\n",
       "<table border=\"1\" class=\"dataframe\">\n",
       "  <thead>\n",
       "    <tr style=\"text-align: right;\">\n",
       "      <th></th>\n",
       "      <th>name</th>\n",
       "      <th>gender</th>\n",
       "      <th>frequency</th>\n",
       "    </tr>\n",
       "  </thead>\n",
       "  <tbody>\n",
       "    <tr>\n",
       "      <th>0</th>\n",
       "      <td>Olivia</td>\n",
       "      <td>F</td>\n",
       "      <td>17664</td>\n",
       "    </tr>\n",
       "    <tr>\n",
       "      <th>1</th>\n",
       "      <td>Emma</td>\n",
       "      <td>F</td>\n",
       "      <td>15680</td>\n",
       "    </tr>\n",
       "    <tr>\n",
       "      <th>2</th>\n",
       "      <td>Ava</td>\n",
       "      <td>F</td>\n",
       "      <td>13179</td>\n",
       "    </tr>\n",
       "    <tr>\n",
       "      <th>3</th>\n",
       "      <td>Charlotte</td>\n",
       "      <td>F</td>\n",
       "      <td>13083</td>\n",
       "    </tr>\n",
       "    <tr>\n",
       "      <th>4</th>\n",
       "      <td>Sophia</td>\n",
       "      <td>F</td>\n",
       "      <td>13070</td>\n",
       "    </tr>\n",
       "    <tr>\n",
       "      <th>...</th>\n",
       "      <td>...</td>\n",
       "      <td>...</td>\n",
       "      <td>...</td>\n",
       "    </tr>\n",
       "    <tr>\n",
       "      <th>31512</th>\n",
       "      <td>Zykier</td>\n",
       "      <td>M</td>\n",
       "      <td>5</td>\n",
       "    </tr>\n",
       "    <tr>\n",
       "      <th>31513</th>\n",
       "      <td>Zylus</td>\n",
       "      <td>M</td>\n",
       "      <td>5</td>\n",
       "    </tr>\n",
       "    <tr>\n",
       "      <th>31514</th>\n",
       "      <td>Zymari</td>\n",
       "      <td>M</td>\n",
       "      <td>5</td>\n",
       "    </tr>\n",
       "    <tr>\n",
       "      <th>31515</th>\n",
       "      <td>Zyn</td>\n",
       "      <td>M</td>\n",
       "      <td>5</td>\n",
       "    </tr>\n",
       "    <tr>\n",
       "      <th>31516</th>\n",
       "      <td>Zyran</td>\n",
       "      <td>M</td>\n",
       "      <td>5</td>\n",
       "    </tr>\n",
       "  </tbody>\n",
       "</table>\n",
       "<p>31517 rows × 3 columns</p>\n",
       "</div>"
      ],
      "text/plain": [
       "            name gender  frequency\n",
       "0         Olivia      F      17664\n",
       "1           Emma      F      15680\n",
       "2            Ava      F      13179\n",
       "3      Charlotte      F      13083\n",
       "4         Sophia      F      13070\n",
       "...          ...    ...        ...\n",
       "31512     Zykier      M          5\n",
       "31513      Zylus      M          5\n",
       "31514     Zymari      M          5\n",
       "31515        Zyn      M          5\n",
       "31516      Zyran      M          5\n",
       "\n",
       "[31517 rows x 3 columns]"
      ]
     },
     "execution_count": 8,
     "metadata": {},
     "output_type": "execute_result"
    }
   ],
   "source": [
    "parse_dataset(2020)\n"
   ]
  },
  {
   "cell_type": "code",
   "execution_count": 9,
   "id": "fe372e57-aa98-4f11-9e3a-bd1b0f55516c",
   "metadata": {},
   "outputs": [
    {
     "data": {
      "text/plain": [
       "10304        5\n",
       "5832         5\n",
       "5833         5\n",
       "5834         5\n",
       "5835         5\n",
       "         ...  \n",
       "1        65481\n",
       "6112     79417\n",
       "0        80431\n",
       "6111     83554\n",
       "6110     86227\n",
       "Name: frequency, Length: 10305, dtype: int64"
      ]
     },
     "execution_count": 9,
     "metadata": {},
     "output_type": "execute_result"
    }
   ],
   "source": [
    "df_1950['frequency'].sort_values()"
   ]
  },
  {
   "cell_type": "code",
   "execution_count": 10,
   "id": "010f1ec3-f73c-48d8-bdd8-b1c5ef240337",
   "metadata": {},
   "outputs": [
    {
     "data": {
      "text/plain": [
       "name         10305\n",
       "gender       10305\n",
       "frequency    10305\n",
       "dtype: int64"
      ]
     },
     "execution_count": 10,
     "metadata": {},
     "output_type": "execute_result"
    }
   ],
   "source": [
    "df_1950.count()"
   ]
  },
  {
   "cell_type": "code",
   "execution_count": 11,
   "id": "b6359660-34bc-433b-a0cf-c1cad044b889",
   "metadata": {},
   "outputs": [
    {
     "data": {
      "text/html": [
       "<div>\n",
       "<style scoped>\n",
       "    .dataframe tbody tr th:only-of-type {\n",
       "        vertical-align: middle;\n",
       "    }\n",
       "\n",
       "    .dataframe tbody tr th {\n",
       "        vertical-align: top;\n",
       "    }\n",
       "\n",
       "    .dataframe thead th {\n",
       "        text-align: right;\n",
       "    }\n",
       "</style>\n",
       "<table border=\"1\" class=\"dataframe\">\n",
       "  <thead>\n",
       "    <tr style=\"text-align: right;\">\n",
       "      <th></th>\n",
       "      <th>name</th>\n",
       "      <th>gender</th>\n",
       "      <th>frequency</th>\n",
       "    </tr>\n",
       "  </thead>\n",
       "  <tbody>\n",
       "    <tr>\n",
       "      <th>0</th>\n",
       "      <td>Linda</td>\n",
       "      <td>F</td>\n",
       "      <td>80431</td>\n",
       "    </tr>\n",
       "    <tr>\n",
       "      <th>1</th>\n",
       "      <td>Mary</td>\n",
       "      <td>F</td>\n",
       "      <td>65481</td>\n",
       "    </tr>\n",
       "    <tr>\n",
       "      <th>2</th>\n",
       "      <td>Patricia</td>\n",
       "      <td>F</td>\n",
       "      <td>47944</td>\n",
       "    </tr>\n",
       "    <tr>\n",
       "      <th>3</th>\n",
       "      <td>Barbara</td>\n",
       "      <td>F</td>\n",
       "      <td>41554</td>\n",
       "    </tr>\n",
       "    <tr>\n",
       "      <th>4</th>\n",
       "      <td>Susan</td>\n",
       "      <td>F</td>\n",
       "      <td>38016</td>\n",
       "    </tr>\n",
       "  </tbody>\n",
       "</table>\n",
       "</div>"
      ],
      "text/plain": [
       "       name gender  frequency\n",
       "0     Linda      F      80431\n",
       "1      Mary      F      65481\n",
       "2  Patricia      F      47944\n",
       "3   Barbara      F      41554\n",
       "4     Susan      F      38016"
      ]
     },
     "execution_count": 11,
     "metadata": {},
     "output_type": "execute_result"
    }
   ],
   "source": [
    "df_1950.head()"
   ]
  },
  {
   "cell_type": "code",
   "execution_count": null,
   "id": "4c13e82b-b6ed-4367-a6ef-afc22adf1a50",
   "metadata": {},
   "outputs": [],
   "source": []
  },
  {
   "cell_type": "code",
   "execution_count": null,
   "id": "20062e78-7915-47f5-9311-0c3184a5b629",
   "metadata": {},
   "outputs": [],
   "source": []
  },
  {
   "cell_type": "code",
   "execution_count": null,
   "id": "d73b2a6e-34db-473d-b710-1523c256e158",
   "metadata": {},
   "outputs": [],
   "source": [
    "\n"
   ]
  },
  {
   "cell_type": "markdown",
   "id": "4b69b481-3916-4251-9572-8197553f5eee",
   "metadata": {},
   "source": [
    "### Adding Function to the For-Loop over the years"
   ]
  },
  {
   "cell_type": "code",
   "execution_count": 12,
   "id": "16a25e66-b737-43de-b4d8-d1a7c57b3c8f",
   "metadata": {},
   "outputs": [],
   "source": [
    "\n",
    "df = pd.DataFrame(columns = ['name', 'gender', 'frequency'])\n",
    "\n",
    "for year in range(1880, 2021):\n",
    "        df_temp = parse_dataset(year)\n",
    "        df_temp['year']= year\n",
    "    \n",
    "        df = pd.concat([df, df_temp])\n",
    "    "
   ]
  },
  {
   "cell_type": "code",
   "execution_count": 13,
   "id": "e96d4f4c-6fc3-4ada-8594-f3b3bca68a1c",
   "metadata": {},
   "outputs": [],
   "source": [
    "df.to_csv('../data/all_years_baby_names.csv', index = False)"
   ]
  },
  {
   "cell_type": "code",
   "execution_count": 14,
   "id": "4d0819fa-c99a-4fdc-8d8c-3aa2e3443565",
   "metadata": {},
   "outputs": [
    {
     "data": {
      "text/plain": [
       "<bound method DataFrame.sort_values of             name gender frequency    year\n",
       "0           Mary      F      7065  1880.0\n",
       "1           Anna      F      2604  1880.0\n",
       "2           Emma      F      2003  1880.0\n",
       "3      Elizabeth      F      1939  1880.0\n",
       "4         Minnie      F      1746  1880.0\n",
       "...          ...    ...       ...     ...\n",
       "31512     Zykier      M         5  2020.0\n",
       "31513      Zylus      M         5  2020.0\n",
       "31514     Zymari      M         5  2020.0\n",
       "31515        Zyn      M         5  2020.0\n",
       "31516      Zyran      M         5  2020.0\n",
       "\n",
       "[2021558 rows x 4 columns]>"
      ]
     },
     "execution_count": 14,
     "metadata": {},
     "output_type": "execute_result"
    }
   ],
   "source": [
    " df.sort_values\n"
   ]
  },
  {
   "cell_type": "code",
   "execution_count": 15,
   "id": "f85cdd20-e67f-4f7a-8c44-c4190b59785e",
   "metadata": {},
   "outputs": [],
   "source": [
    "df_sorted = df.sort_values(by='frequency', ascending=False)"
   ]
  },
  {
   "cell_type": "code",
   "execution_count": 31,
   "id": "36cdb341-09d9-422e-8c32-f617bd6b4904",
   "metadata": {
    "scrolled": true
   },
   "outputs": [
    {
     "data": {
      "text/html": [
       "<div>\n",
       "<style scoped>\n",
       "    .dataframe tbody tr th:only-of-type {\n",
       "        vertical-align: middle;\n",
       "    }\n",
       "\n",
       "    .dataframe tbody tr th {\n",
       "        vertical-align: top;\n",
       "    }\n",
       "\n",
       "    .dataframe thead th {\n",
       "        text-align: right;\n",
       "    }\n",
       "</style>\n",
       "<table border=\"1\" class=\"dataframe\">\n",
       "  <thead>\n",
       "    <tr style=\"text-align: right;\">\n",
       "      <th></th>\n",
       "      <th>name</th>\n",
       "      <th>gender</th>\n",
       "      <th>frequency</th>\n",
       "      <th>year</th>\n",
       "    </tr>\n",
       "  </thead>\n",
       "  <tbody>\n",
       "    <tr>\n",
       "      <th>0</th>\n",
       "      <td>Linda</td>\n",
       "      <td>F</td>\n",
       "      <td>99693</td>\n",
       "      <td>1947.0</td>\n",
       "    </tr>\n",
       "    <tr>\n",
       "      <th>0</th>\n",
       "      <td>Linda</td>\n",
       "      <td>F</td>\n",
       "      <td>96215</td>\n",
       "      <td>1948.0</td>\n",
       "    </tr>\n",
       "    <tr>\n",
       "      <th>6104</th>\n",
       "      <td>James</td>\n",
       "      <td>M</td>\n",
       "      <td>94758</td>\n",
       "      <td>1947.0</td>\n",
       "    </tr>\n",
       "    <tr>\n",
       "      <th>7015</th>\n",
       "      <td>Michael</td>\n",
       "      <td>M</td>\n",
       "      <td>92785</td>\n",
       "      <td>1957.0</td>\n",
       "    </tr>\n",
       "    <tr>\n",
       "      <th>6105</th>\n",
       "      <td>Robert</td>\n",
       "      <td>M</td>\n",
       "      <td>91650</td>\n",
       "      <td>1947.0</td>\n",
       "    </tr>\n",
       "    <tr>\n",
       "      <th>...</th>\n",
       "      <td>...</td>\n",
       "      <td>...</td>\n",
       "      <td>...</td>\n",
       "      <td>...</td>\n",
       "    </tr>\n",
       "    <tr>\n",
       "      <th>8879</th>\n",
       "      <td>Kanisha</td>\n",
       "      <td>F</td>\n",
       "      <td>5</td>\n",
       "      <td>1971.0</td>\n",
       "    </tr>\n",
       "    <tr>\n",
       "      <th>8880</th>\n",
       "      <td>Karesa</td>\n",
       "      <td>F</td>\n",
       "      <td>5</td>\n",
       "      <td>1971.0</td>\n",
       "    </tr>\n",
       "    <tr>\n",
       "      <th>8881</th>\n",
       "      <td>Karisha</td>\n",
       "      <td>F</td>\n",
       "      <td>5</td>\n",
       "      <td>1971.0</td>\n",
       "    </tr>\n",
       "    <tr>\n",
       "      <th>8882</th>\n",
       "      <td>Karli</td>\n",
       "      <td>F</td>\n",
       "      <td>5</td>\n",
       "      <td>1971.0</td>\n",
       "    </tr>\n",
       "    <tr>\n",
       "      <th>31516</th>\n",
       "      <td>Zyran</td>\n",
       "      <td>M</td>\n",
       "      <td>5</td>\n",
       "      <td>2020.0</td>\n",
       "    </tr>\n",
       "  </tbody>\n",
       "</table>\n",
       "<p>2021558 rows × 4 columns</p>\n",
       "</div>"
      ],
      "text/plain": [
       "          name gender frequency    year\n",
       "0        Linda      F     99693  1947.0\n",
       "0        Linda      F     96215  1948.0\n",
       "6104     James      M     94758  1947.0\n",
       "7015   Michael      M     92785  1957.0\n",
       "6105    Robert      M     91650  1947.0\n",
       "...        ...    ...       ...     ...\n",
       "8879   Kanisha      F         5  1971.0\n",
       "8880    Karesa      F         5  1971.0\n",
       "8881   Karisha      F         5  1971.0\n",
       "8882     Karli      F         5  1971.0\n",
       "31516    Zyran      M         5  2020.0\n",
       "\n",
       "[2021558 rows x 4 columns]"
      ]
     },
     "execution_count": 31,
     "metadata": {},
     "output_type": "execute_result"
    }
   ],
   "source": [
    "df_sorted"
   ]
  },
  {
   "cell_type": "code",
   "execution_count": 29,
   "id": "59bab86e-5cb7-4481-8c75-f82b91130330",
   "metadata": {},
   "outputs": [
    {
     "data": {
      "text/plain": [
       "0      Mary\n",
       "0      Mary\n",
       "0      Mary\n",
       "0      Mary\n",
       "0      Mary\n",
       "      ...  \n",
       "0      Emma\n",
       "0      Emma\n",
       "0      Emma\n",
       "0    Olivia\n",
       "0    Olivia\n",
       "Name: name, Length: 141, dtype: object"
      ]
     },
     "execution_count": 29,
     "metadata": {},
     "output_type": "execute_result"
    }
   ],
   "source": [
    "# Find the name with the all-time highest frequency and in which year\n",
    "\n",
    "\n",
    "Linda in year 1947"
   ]
  },
  {
   "cell_type": "code",
   "execution_count": 20,
   "id": "4f405af9-76a4-4103-88a3-18a4f25e7fec",
   "metadata": {},
   "outputs": [],
   "source": [
    "df['year'] = df['year'].astype('int')"
   ]
  },
  {
   "cell_type": "code",
   "execution_count": 21,
   "id": "7b133d2a-961b-4eb9-9ac6-13a9a8935fde",
   "metadata": {},
   "outputs": [
    {
     "data": {
      "text/html": [
       "<div>\n",
       "<style scoped>\n",
       "    .dataframe tbody tr th:only-of-type {\n",
       "        vertical-align: middle;\n",
       "    }\n",
       "\n",
       "    .dataframe tbody tr th {\n",
       "        vertical-align: top;\n",
       "    }\n",
       "\n",
       "    .dataframe thead th {\n",
       "        text-align: right;\n",
       "    }\n",
       "</style>\n",
       "<table border=\"1\" class=\"dataframe\">\n",
       "  <thead>\n",
       "    <tr style=\"text-align: right;\">\n",
       "      <th></th>\n",
       "      <th>name</th>\n",
       "      <th>gender</th>\n",
       "      <th>frequency</th>\n",
       "      <th>year</th>\n",
       "    </tr>\n",
       "  </thead>\n",
       "  <tbody>\n",
       "    <tr>\n",
       "      <th>0</th>\n",
       "      <td>Mary</td>\n",
       "      <td>F</td>\n",
       "      <td>7065</td>\n",
       "      <td>1880</td>\n",
       "    </tr>\n",
       "    <tr>\n",
       "      <th>1</th>\n",
       "      <td>Anna</td>\n",
       "      <td>F</td>\n",
       "      <td>2604</td>\n",
       "      <td>1880</td>\n",
       "    </tr>\n",
       "    <tr>\n",
       "      <th>2</th>\n",
       "      <td>Emma</td>\n",
       "      <td>F</td>\n",
       "      <td>2003</td>\n",
       "      <td>1880</td>\n",
       "    </tr>\n",
       "    <tr>\n",
       "      <th>3</th>\n",
       "      <td>Elizabeth</td>\n",
       "      <td>F</td>\n",
       "      <td>1939</td>\n",
       "      <td>1880</td>\n",
       "    </tr>\n",
       "    <tr>\n",
       "      <th>4</th>\n",
       "      <td>Minnie</td>\n",
       "      <td>F</td>\n",
       "      <td>1746</td>\n",
       "      <td>1880</td>\n",
       "    </tr>\n",
       "    <tr>\n",
       "      <th>...</th>\n",
       "      <td>...</td>\n",
       "      <td>...</td>\n",
       "      <td>...</td>\n",
       "      <td>...</td>\n",
       "    </tr>\n",
       "    <tr>\n",
       "      <th>31512</th>\n",
       "      <td>Zykier</td>\n",
       "      <td>M</td>\n",
       "      <td>5</td>\n",
       "      <td>2020</td>\n",
       "    </tr>\n",
       "    <tr>\n",
       "      <th>31513</th>\n",
       "      <td>Zylus</td>\n",
       "      <td>M</td>\n",
       "      <td>5</td>\n",
       "      <td>2020</td>\n",
       "    </tr>\n",
       "    <tr>\n",
       "      <th>31514</th>\n",
       "      <td>Zymari</td>\n",
       "      <td>M</td>\n",
       "      <td>5</td>\n",
       "      <td>2020</td>\n",
       "    </tr>\n",
       "    <tr>\n",
       "      <th>31515</th>\n",
       "      <td>Zyn</td>\n",
       "      <td>M</td>\n",
       "      <td>5</td>\n",
       "      <td>2020</td>\n",
       "    </tr>\n",
       "    <tr>\n",
       "      <th>31516</th>\n",
       "      <td>Zyran</td>\n",
       "      <td>M</td>\n",
       "      <td>5</td>\n",
       "      <td>2020</td>\n",
       "    </tr>\n",
       "  </tbody>\n",
       "</table>\n",
       "<p>2021558 rows × 4 columns</p>\n",
       "</div>"
      ],
      "text/plain": [
       "            name gender frequency  year\n",
       "0           Mary      F      7065  1880\n",
       "1           Anna      F      2604  1880\n",
       "2           Emma      F      2003  1880\n",
       "3      Elizabeth      F      1939  1880\n",
       "4         Minnie      F      1746  1880\n",
       "...          ...    ...       ...   ...\n",
       "31512     Zykier      M         5  2020\n",
       "31513      Zylus      M         5  2020\n",
       "31514     Zymari      M         5  2020\n",
       "31515        Zyn      M         5  2020\n",
       "31516      Zyran      M         5  2020\n",
       "\n",
       "[2021558 rows x 4 columns]"
      ]
     },
     "execution_count": 21,
     "metadata": {},
     "output_type": "execute_result"
    }
   ],
   "source": [
    "df"
   ]
  },
  {
   "cell_type": "code",
   "execution_count": null,
   "id": "6610fce7-70c1-44b6-b887-0d961ce9a2eb",
   "metadata": {},
   "outputs": [],
   "source": []
  }
 ],
 "metadata": {
  "kernelspec": {
   "display_name": "Python 3 (ipykernel)",
   "language": "python",
   "name": "python3"
  },
  "language_info": {
   "codemirror_mode": {
    "name": "ipython",
    "version": 3
   },
   "file_extension": ".py",
   "mimetype": "text/x-python",
   "name": "python",
   "nbconvert_exporter": "python",
   "pygments_lexer": "ipython3",
   "version": "3.11.5"
  }
 },
 "nbformat": 4,
 "nbformat_minor": 5
}
