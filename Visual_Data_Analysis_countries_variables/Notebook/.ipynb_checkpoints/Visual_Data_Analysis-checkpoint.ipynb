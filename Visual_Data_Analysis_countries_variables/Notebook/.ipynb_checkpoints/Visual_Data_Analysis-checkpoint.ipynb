{
 "cells": [
  {
   "cell_type": "code",
   "execution_count": 1,
   "id": "0ce989af-8760-4b24-9463-b460efe30529",
   "metadata": {},
   "outputs": [],
   "source": [
    "import pandas as pd"
   ]
  },
  {
   "cell_type": "code",
   "execution_count": 2,
   "id": "4acd991e-8c7f-4beb-b912-6bcdb07678e9",
   "metadata": {},
   "outputs": [
    {
     "data": {
      "text/html": [
       "<div>\n",
       "<style scoped>\n",
       "    .dataframe tbody tr th:only-of-type {\n",
       "        vertical-align: middle;\n",
       "    }\n",
       "\n",
       "    .dataframe tbody tr th {\n",
       "        vertical-align: top;\n",
       "    }\n",
       "\n",
       "    .dataframe thead th {\n",
       "        text-align: right;\n",
       "    }\n",
       "</style>\n",
       "<table border=\"1\" class=\"dataframe\">\n",
       "  <thead>\n",
       "    <tr style=\"text-align: right;\">\n",
       "      <th></th>\n",
       "      <th>population</th>\n",
       "      <th>fertility</th>\n",
       "      <th>continent</th>\n",
       "    </tr>\n",
       "  </thead>\n",
       "  <tbody>\n",
       "    <tr>\n",
       "      <th>Bangladesh</th>\n",
       "      <td>1.609956e+08</td>\n",
       "      <td>2.12</td>\n",
       "      <td>Asia</td>\n",
       "    </tr>\n",
       "    <tr>\n",
       "      <th>Brazil</th>\n",
       "      <td>2.078475e+08</td>\n",
       "      <td>1.78</td>\n",
       "      <td>South America</td>\n",
       "    </tr>\n",
       "    <tr>\n",
       "      <th>China</th>\n",
       "      <td>1.376049e+09</td>\n",
       "      <td>1.57</td>\n",
       "      <td>Asia</td>\n",
       "    </tr>\n",
       "    <tr>\n",
       "      <th>India</th>\n",
       "      <td>1.311051e+09</td>\n",
       "      <td>2.43</td>\n",
       "      <td>Asia</td>\n",
       "    </tr>\n",
       "    <tr>\n",
       "      <th>Indonesia</th>\n",
       "      <td>2.575638e+08</td>\n",
       "      <td>2.28</td>\n",
       "      <td>Asia</td>\n",
       "    </tr>\n",
       "    <tr>\n",
       "      <th>Japan</th>\n",
       "      <td>1.265735e+08</td>\n",
       "      <td>1.45</td>\n",
       "      <td>Asia</td>\n",
       "    </tr>\n",
       "    <tr>\n",
       "      <th>Mexico</th>\n",
       "      <td>1.270172e+08</td>\n",
       "      <td>2.13</td>\n",
       "      <td>North America</td>\n",
       "    </tr>\n",
       "    <tr>\n",
       "      <th>Nigeria</th>\n",
       "      <td>1.822020e+08</td>\n",
       "      <td>5.89</td>\n",
       "      <td>Africa</td>\n",
       "    </tr>\n",
       "    <tr>\n",
       "      <th>Pakistan</th>\n",
       "      <td>1.889249e+08</td>\n",
       "      <td>3.04</td>\n",
       "      <td>Asia</td>\n",
       "    </tr>\n",
       "    <tr>\n",
       "      <th>Philippines</th>\n",
       "      <td>1.006994e+08</td>\n",
       "      <td>2.98</td>\n",
       "      <td>Asia</td>\n",
       "    </tr>\n",
       "    <tr>\n",
       "      <th>Russia</th>\n",
       "      <td>1.434569e+08</td>\n",
       "      <td>1.61</td>\n",
       "      <td>Europe</td>\n",
       "    </tr>\n",
       "    <tr>\n",
       "      <th>United States</th>\n",
       "      <td>3.217736e+08</td>\n",
       "      <td>1.97</td>\n",
       "      <td>North America</td>\n",
       "    </tr>\n",
       "  </tbody>\n",
       "</table>\n",
       "</div>"
      ],
      "text/plain": [
       "                 population  fertility      continent\n",
       "Bangladesh     1.609956e+08       2.12           Asia\n",
       "Brazil         2.078475e+08       1.78  South America\n",
       "China          1.376049e+09       1.57           Asia\n",
       "India          1.311051e+09       2.43           Asia\n",
       "Indonesia      2.575638e+08       2.28           Asia\n",
       "Japan          1.265735e+08       1.45           Asia\n",
       "Mexico         1.270172e+08       2.13  North America\n",
       "Nigeria        1.822020e+08       5.89         Africa\n",
       "Pakistan       1.889249e+08       3.04           Asia\n",
       "Philippines    1.006994e+08       2.98           Asia\n",
       "Russia         1.434569e+08       1.61         Europe\n",
       "United States  3.217736e+08       1.97  North America"
      ]
     },
     "execution_count": 2,
     "metadata": {},
     "output_type": "execute_result"
    }
   ],
   "source": [
    "# 1. read in data:\n",
    "df = pd.read_csv('../data/large_countries_2015.csv', index_col=0)\n",
    "df"
   ]
  },
  {
   "cell_type": "code",
   "execution_count": 3,
   "id": "19237525-57df-4617-9ae8-b175f3de5e32",
   "metadata": {},
   "outputs": [
    {
     "data": {
      "text/plain": [
       "population    0\n",
       "fertility     0\n",
       "continent     0\n",
       "dtype: int64"
      ]
     },
     "execution_count": 3,
     "metadata": {},
     "output_type": "execute_result"
    }
   ],
   "source": [
    "# 2. check dataframe for null values\n",
    "df.isnull().sum()"
   ]
  },
  {
   "cell_type": "code",
   "execution_count": 4,
   "id": "c3ede86f-40a0-403b-bd20-ac70a34cea53",
   "metadata": {},
   "outputs": [
    {
     "data": {
      "text/plain": [
       "population    float64\n",
       "fertility     float64\n",
       "continent      object\n",
       "dtype: object"
      ]
     },
     "execution_count": 4,
     "metadata": {},
     "output_type": "execute_result"
    }
   ],
   "source": [
    "# 3. check datatypes\n",
    "df.dtypes"
   ]
  },
  {
   "cell_type": "code",
   "execution_count": 5,
   "id": "4b745e38-e6d8-47f9-b7ee-4918560d2381",
   "metadata": {},
   "outputs": [],
   "source": [
    "# 4. check how many countries from each continent are in the dataset\n",
    "continent_count= df['continent'].value_counts()"
   ]
  },
  {
   "cell_type": "code",
   "execution_count": 6,
   "id": "b96cd68e-659b-4c91-9299-532eb8f28a5b",
   "metadata": {},
   "outputs": [
    {
     "data": {
      "text/html": [
       "<div>\n",
       "<style scoped>\n",
       "    .dataframe tbody tr th:only-of-type {\n",
       "        vertical-align: middle;\n",
       "    }\n",
       "\n",
       "    .dataframe tbody tr th {\n",
       "        vertical-align: top;\n",
       "    }\n",
       "\n",
       "    .dataframe thead th {\n",
       "        text-align: right;\n",
       "    }\n",
       "</style>\n",
       "<table border=\"1\" class=\"dataframe\">\n",
       "  <thead>\n",
       "    <tr style=\"text-align: right;\">\n",
       "      <th></th>\n",
       "      <th>population</th>\n",
       "      <th>fertility</th>\n",
       "      <th>continent</th>\n",
       "    </tr>\n",
       "  </thead>\n",
       "  <tbody>\n",
       "    <tr>\n",
       "      <th>Bangladesh</th>\n",
       "      <td>1.609956e+08</td>\n",
       "      <td>2.12</td>\n",
       "      <td>Asia</td>\n",
       "    </tr>\n",
       "    <tr>\n",
       "      <th>China</th>\n",
       "      <td>1.376049e+09</td>\n",
       "      <td>1.57</td>\n",
       "      <td>Asia</td>\n",
       "    </tr>\n",
       "    <tr>\n",
       "      <th>India</th>\n",
       "      <td>1.311051e+09</td>\n",
       "      <td>2.43</td>\n",
       "      <td>Asia</td>\n",
       "    </tr>\n",
       "    <tr>\n",
       "      <th>Indonesia</th>\n",
       "      <td>2.575638e+08</td>\n",
       "      <td>2.28</td>\n",
       "      <td>Asia</td>\n",
       "    </tr>\n",
       "    <tr>\n",
       "      <th>Japan</th>\n",
       "      <td>1.265735e+08</td>\n",
       "      <td>1.45</td>\n",
       "      <td>Asia</td>\n",
       "    </tr>\n",
       "    <tr>\n",
       "      <th>Pakistan</th>\n",
       "      <td>1.889249e+08</td>\n",
       "      <td>3.04</td>\n",
       "      <td>Asia</td>\n",
       "    </tr>\n",
       "    <tr>\n",
       "      <th>Philippines</th>\n",
       "      <td>1.006994e+08</td>\n",
       "      <td>2.98</td>\n",
       "      <td>Asia</td>\n",
       "    </tr>\n",
       "  </tbody>\n",
       "</table>\n",
       "</div>"
      ],
      "text/plain": [
       "               population  fertility continent\n",
       "Bangladesh   1.609956e+08       2.12      Asia\n",
       "China        1.376049e+09       1.57      Asia\n",
       "India        1.311051e+09       2.43      Asia\n",
       "Indonesia    2.575638e+08       2.28      Asia\n",
       "Japan        1.265735e+08       1.45      Asia\n",
       "Pakistan     1.889249e+08       3.04      Asia\n",
       "Philippines  1.006994e+08       2.98      Asia"
      ]
     },
     "execution_count": 6,
     "metadata": {},
     "output_type": "execute_result"
    }
   ],
   "source": [
    "# 5. display a dataframe which only has countries located in Asia\n",
    "asia_mask= df['continent']== 'Asia'\n",
    "df.loc[asia_mask]"
   ]
  },
  {
   "cell_type": "code",
   "execution_count": 7,
   "id": "8d890296-f64c-44c4-a64a-b80073c17d73",
   "metadata": {},
   "outputs": [
    {
     "data": {
      "text/html": [
       "<div>\n",
       "<style scoped>\n",
       "    .dataframe tbody tr th:only-of-type {\n",
       "        vertical-align: middle;\n",
       "    }\n",
       "\n",
       "    .dataframe tbody tr th {\n",
       "        vertical-align: top;\n",
       "    }\n",
       "\n",
       "    .dataframe thead th {\n",
       "        text-align: right;\n",
       "    }\n",
       "</style>\n",
       "<table border=\"1\" class=\"dataframe\">\n",
       "  <thead>\n",
       "    <tr style=\"text-align: right;\">\n",
       "      <th></th>\n",
       "      <th>population</th>\n",
       "      <th>fertility</th>\n",
       "      <th>continent</th>\n",
       "    </tr>\n",
       "  </thead>\n",
       "  <tbody>\n",
       "    <tr>\n",
       "      <th>China</th>\n",
       "      <td>1.376049e+09</td>\n",
       "      <td>1.57</td>\n",
       "      <td>Asia</td>\n",
       "    </tr>\n",
       "    <tr>\n",
       "      <th>India</th>\n",
       "      <td>1.311051e+09</td>\n",
       "      <td>2.43</td>\n",
       "      <td>Asia</td>\n",
       "    </tr>\n",
       "    <tr>\n",
       "      <th>Indonesia</th>\n",
       "      <td>2.575638e+08</td>\n",
       "      <td>2.28</td>\n",
       "      <td>Asia</td>\n",
       "    </tr>\n",
       "    <tr>\n",
       "      <th>United States</th>\n",
       "      <td>3.217736e+08</td>\n",
       "      <td>1.97</td>\n",
       "      <td>North America</td>\n",
       "    </tr>\n",
       "  </tbody>\n",
       "</table>\n",
       "</div>"
      ],
      "text/plain": [
       "                 population  fertility      continent\n",
       "China          1.376049e+09       1.57           Asia\n",
       "India          1.311051e+09       2.43           Asia\n",
       "Indonesia      2.575638e+08       2.28           Asia\n",
       "United States  3.217736e+08       1.97  North America"
      ]
     },
     "execution_count": 7,
     "metadata": {},
     "output_type": "execute_result"
    }
   ],
   "source": [
    "# 6. display a dataframe which only has countries that have a population over 250,000,000\n",
    "mask_population = df['population'] > 250000000\n",
    "df.loc[mask_population]"
   ]
  },
  {
   "cell_type": "code",
   "execution_count": 8,
   "id": "8db48171-2132-494f-bd82-f64059adf014",
   "metadata": {},
   "outputs": [
    {
     "data": {
      "text/html": [
       "<div>\n",
       "<style scoped>\n",
       "    .dataframe tbody tr th:only-of-type {\n",
       "        vertical-align: middle;\n",
       "    }\n",
       "\n",
       "    .dataframe tbody tr th {\n",
       "        vertical-align: top;\n",
       "    }\n",
       "\n",
       "    .dataframe thead th {\n",
       "        text-align: right;\n",
       "    }\n",
       "</style>\n",
       "<table border=\"1\" class=\"dataframe\">\n",
       "  <thead>\n",
       "    <tr style=\"text-align: right;\">\n",
       "      <th></th>\n",
       "      <th>population</th>\n",
       "      <th>fertility</th>\n",
       "      <th>continent</th>\n",
       "    </tr>\n",
       "  </thead>\n",
       "  <tbody>\n",
       "    <tr>\n",
       "      <th>Bangladesh</th>\n",
       "      <td>160995642.0</td>\n",
       "      <td>2.12</td>\n",
       "      <td>Asia</td>\n",
       "    </tr>\n",
       "    <tr>\n",
       "      <th>Brazil</th>\n",
       "      <td>207847528.0</td>\n",
       "      <td>1.78</td>\n",
       "      <td>South America</td>\n",
       "    </tr>\n",
       "    <tr>\n",
       "      <th>Japan</th>\n",
       "      <td>126573481.0</td>\n",
       "      <td>1.45</td>\n",
       "      <td>Asia</td>\n",
       "    </tr>\n",
       "    <tr>\n",
       "      <th>Mexico</th>\n",
       "      <td>127017224.0</td>\n",
       "      <td>2.13</td>\n",
       "      <td>North America</td>\n",
       "    </tr>\n",
       "    <tr>\n",
       "      <th>Nigeria</th>\n",
       "      <td>182201962.0</td>\n",
       "      <td>5.89</td>\n",
       "      <td>Africa</td>\n",
       "    </tr>\n",
       "    <tr>\n",
       "      <th>Pakistan</th>\n",
       "      <td>188924874.0</td>\n",
       "      <td>3.04</td>\n",
       "      <td>Asia</td>\n",
       "    </tr>\n",
       "    <tr>\n",
       "      <th>Philippines</th>\n",
       "      <td>100699395.0</td>\n",
       "      <td>2.98</td>\n",
       "      <td>Asia</td>\n",
       "    </tr>\n",
       "    <tr>\n",
       "      <th>Russia</th>\n",
       "      <td>143456918.0</td>\n",
       "      <td>1.61</td>\n",
       "      <td>Europe</td>\n",
       "    </tr>\n",
       "  </tbody>\n",
       "</table>\n",
       "</div>"
      ],
      "text/plain": [
       "              population  fertility      continent\n",
       "Bangladesh   160995642.0       2.12           Asia\n",
       "Brazil       207847528.0       1.78  South America\n",
       "Japan        126573481.0       1.45           Asia\n",
       "Mexico       127017224.0       2.13  North America\n",
       "Nigeria      182201962.0       5.89         Africa\n",
       "Pakistan     188924874.0       3.04           Asia\n",
       "Philippines  100699395.0       2.98           Asia\n",
       "Russia       143456918.0       1.61         Europe"
      ]
     },
     "execution_count": 8,
     "metadata": {},
     "output_type": "execute_result"
    }
   ],
   "source": [
    "# 7. display a dataframe which only has countries that have a population of no less than 100,000 and no more than 250,000,000\n",
    "mask_population_2 = (df['population'] <= 250000000) & (df['population'] >= 100000)\n",
    "df.loc[mask_population_2]"
   ]
  },
  {
   "cell_type": "code",
   "execution_count": 9,
   "id": "a9fc35a3-ae81-4b52-b185-790145e06a94",
   "metadata": {},
   "outputs": [
    {
     "data": {
      "text/html": [
       "<div>\n",
       "<style scoped>\n",
       "    .dataframe tbody tr th:only-of-type {\n",
       "        vertical-align: middle;\n",
       "    }\n",
       "\n",
       "    .dataframe tbody tr th {\n",
       "        vertical-align: top;\n",
       "    }\n",
       "\n",
       "    .dataframe thead th {\n",
       "        text-align: right;\n",
       "    }\n",
       "</style>\n",
       "<table border=\"1\" class=\"dataframe\">\n",
       "  <thead>\n",
       "    <tr style=\"text-align: right;\">\n",
       "      <th></th>\n",
       "      <th>population</th>\n",
       "      <th>fertility</th>\n",
       "      <th>continent</th>\n",
       "    </tr>\n",
       "  </thead>\n",
       "  <tbody>\n",
       "    <tr>\n",
       "      <th>China</th>\n",
       "      <td>1.376049e+09</td>\n",
       "      <td>1.57</td>\n",
       "      <td>Asia</td>\n",
       "    </tr>\n",
       "    <tr>\n",
       "      <th>Japan</th>\n",
       "      <td>1.265735e+08</td>\n",
       "      <td>1.45</td>\n",
       "      <td>Asia</td>\n",
       "    </tr>\n",
       "  </tbody>\n",
       "</table>\n",
       "</div>"
      ],
      "text/plain": [
       "         population  fertility continent\n",
       "China  1.376049e+09       1.57      Asia\n",
       "Japan  1.265735e+08       1.45      Asia"
      ]
     },
     "execution_count": 9,
     "metadata": {},
     "output_type": "execute_result"
    }
   ],
   "source": [
    "\n",
    "# 8. display a dataframe which only has countries located in Asia that have a fertilitiy rate of less than 1.8\n",
    "mask_fertility_Asia = (df['continent'] == 'Asia') & (df['fertility'] <1.8)\n",
    "df.loc[mask_fertility_Asia]"
   ]
  },
  {
   "cell_type": "code",
   "execution_count": 10,
   "id": "7725f50b-6130-4237-aab2-db5418c2478d",
   "metadata": {},
   "outputs": [
    {
     "data": {
      "text/plain": [
       "<matplotlib.legend.Legend at 0x2b35ba958d0>"
      ]
     },
     "execution_count": 10,
     "metadata": {},
     "output_type": "execute_result"
    },
    {
     "data": {
      "image/png": "[encoded data removed]",
      "text/plain": [
       "<Figure size 640x480 with 1 Axes>"
      ]
     },
     "metadata": {},
     "output_type": "display_data"
    }
   ],
   "source": [
    " # create a bar plot from the continents.csv that shows the distribution of countries per continent.\n",
    "\n",
    "from matplotlib import pyplot as plt\n",
    "continent_count.plot(kind ='bar', color = 'blue')\n",
    "plt.title('distribution of countries per continent')\n",
    "plt.xlabel('Continent')\n",
    "plt.ylabel('Distribution of Countries')\n",
    "plt.legend()"
   ]
  },
  {
   "cell_type": "code",
   "execution_count": 11,
   "id": "f378146f-1e80-4c00-a5ea-80d96cb18aad",
   "metadata": {},
   "outputs": [
    {
     "data": {
      "text/html": [
       "<div>\n",
       "<style scoped>\n",
       "    .dataframe tbody tr th:only-of-type {\n",
       "        vertical-align: middle;\n",
       "    }\n",
       "\n",
       "    .dataframe tbody tr th {\n",
       "        vertical-align: top;\n",
       "    }\n",
       "\n",
       "    .dataframe thead th {\n",
       "        text-align: right;\n",
       "    }\n",
       "</style>\n",
       "<table border=\"1\" class=\"dataframe\">\n",
       "  <thead>\n",
       "    <tr style=\"text-align: right;\">\n",
       "      <th></th>\n",
       "      <th>country</th>\n",
       "      <th>year</th>\n",
       "      <th>total_population</th>\n",
       "    </tr>\n",
       "  </thead>\n",
       "  <tbody>\n",
       "    <tr>\n",
       "      <th>0</th>\n",
       "      <td>Abkhazia</td>\n",
       "      <td>1800</td>\n",
       "      <td>NaN</td>\n",
       "    </tr>\n",
       "    <tr>\n",
       "      <th>1</th>\n",
       "      <td>Afghanistan</td>\n",
       "      <td>1800</td>\n",
       "      <td>3280000.0</td>\n",
       "    </tr>\n",
       "    <tr>\n",
       "      <th>2</th>\n",
       "      <td>Akrotiri and Dhekelia</td>\n",
       "      <td>1800</td>\n",
       "      <td>NaN</td>\n",
       "    </tr>\n",
       "    <tr>\n",
       "      <th>3</th>\n",
       "      <td>Albania</td>\n",
       "      <td>1800</td>\n",
       "      <td>410445.0</td>\n",
       "    </tr>\n",
       "    <tr>\n",
       "      <th>4</th>\n",
       "      <td>Algeria</td>\n",
       "      <td>1800</td>\n",
       "      <td>2503218.0</td>\n",
       "    </tr>\n",
       "    <tr>\n",
       "      <th>...</th>\n",
       "      <td>...</td>\n",
       "      <td>...</td>\n",
       "      <td>...</td>\n",
       "    </tr>\n",
       "    <tr>\n",
       "      <th>22270</th>\n",
       "      <td>Northern Marianas</td>\n",
       "      <td>2015</td>\n",
       "      <td>NaN</td>\n",
       "    </tr>\n",
       "    <tr>\n",
       "      <th>22271</th>\n",
       "      <td>South Georgia and the South Sandwich Islands</td>\n",
       "      <td>2015</td>\n",
       "      <td>NaN</td>\n",
       "    </tr>\n",
       "    <tr>\n",
       "      <th>22272</th>\n",
       "      <td>US Minor Outlying Islands</td>\n",
       "      <td>2015</td>\n",
       "      <td>NaN</td>\n",
       "    </tr>\n",
       "    <tr>\n",
       "      <th>22273</th>\n",
       "      <td>Virgin Islands</td>\n",
       "      <td>2015</td>\n",
       "      <td>NaN</td>\n",
       "    </tr>\n",
       "    <tr>\n",
       "      <th>22274</th>\n",
       "      <td>West Bank</td>\n",
       "      <td>2015</td>\n",
       "      <td>NaN</td>\n",
       "    </tr>\n",
       "  </tbody>\n",
       "</table>\n",
       "<p>22275 rows × 3 columns</p>\n",
       "</div>"
      ],
      "text/plain": [
       "                                            country  year  total_population\n",
       "0                                          Abkhazia  1800               NaN\n",
       "1                                       Afghanistan  1800         3280000.0\n",
       "2                             Akrotiri and Dhekelia  1800               NaN\n",
       "3                                           Albania  1800          410445.0\n",
       "4                                           Algeria  1800         2503218.0\n",
       "...                                             ...   ...               ...\n",
       "22270                             Northern Marianas  2015               NaN\n",
       "22271  South Georgia and the South Sandwich Islands  2015               NaN\n",
       "22272                     US Minor Outlying Islands  2015               NaN\n",
       "22273                                Virgin Islands  2015               NaN\n",
       "22274                                     West Bank  2015               NaN\n",
       "\n",
       "[22275 rows x 3 columns]"
      ]
     },
     "execution_count": 11,
     "metadata": {},
     "output_type": "execute_result"
    }
   ],
   "source": [
    "#Rename columns\n",
    "df_pop= pd.read_csv('../data/population.csv')\n",
    "\n",
    "df_pop.rename(columns={'Total population': 'country', 'population': 'total_population'}, inplace=True)\n",
    "\n",
    "df_pop"
   ]
  },
  {
   "cell_type": "code",
   "execution_count": 12,
   "id": "da96476a-39a9-4f68-9ced-2f580559003e",
   "metadata": {},
   "outputs": [
    {
     "data": {
      "text/plain": [
       "country                0\n",
       "year                   0\n",
       "total_population    2099\n",
       "dtype: int64"
      ]
     },
     "execution_count": 12,
     "metadata": {},
     "output_type": "execute_result"
    }
   ],
   "source": [
    "#Missing data: first check and see which and how much data is missing in the population dataset\n",
    "df_pop.isnull().sum()"
   ]
  },
  {
   "cell_type": "code",
   "execution_count": 13,
   "id": "3764042e-157f-46a6-8dd8-4af8948b9834",
   "metadata": {},
   "outputs": [],
   "source": [
    "#Remove missing data: drop all observations with missing data\n",
    "df_pop= df_pop.dropna()"
   ]
  },
  {
   "cell_type": "code",
   "execution_count": 14,
   "id": "4ab76ce5-2974-4f5b-9ce2-83b67796d75f",
   "metadata": {},
   "outputs": [],
   "source": [
    "df_pop.reset_index(drop = True,inplace = True)"
   ]
  },
  {
   "cell_type": "code",
   "execution_count": 15,
   "id": "10e65a03-3f71-4ef7-9db2-1ddca04467ff",
   "metadata": {},
   "outputs": [
    {
     "data": {
      "text/html": [
       "<div>\n",
       "<style scoped>\n",
       "    .dataframe tbody tr th:only-of-type {\n",
       "        vertical-align: middle;\n",
       "    }\n",
       "\n",
       "    .dataframe tbody tr th {\n",
       "        vertical-align: top;\n",
       "    }\n",
       "\n",
       "    .dataframe thead th {\n",
       "        text-align: right;\n",
       "    }\n",
       "</style>\n",
       "<table border=\"1\" class=\"dataframe\">\n",
       "  <thead>\n",
       "    <tr style=\"text-align: right;\">\n",
       "      <th></th>\n",
       "      <th>country</th>\n",
       "      <th>year</th>\n",
       "      <th>total_population</th>\n",
       "    </tr>\n",
       "  </thead>\n",
       "  <tbody>\n",
       "    <tr>\n",
       "      <th>0</th>\n",
       "      <td>Afghanistan</td>\n",
       "      <td>1800</td>\n",
       "      <td>3280000.0</td>\n",
       "    </tr>\n",
       "    <tr>\n",
       "      <th>1</th>\n",
       "      <td>Albania</td>\n",
       "      <td>1800</td>\n",
       "      <td>410445.0</td>\n",
       "    </tr>\n",
       "    <tr>\n",
       "      <th>2</th>\n",
       "      <td>Algeria</td>\n",
       "      <td>1800</td>\n",
       "      <td>2503218.0</td>\n",
       "    </tr>\n",
       "    <tr>\n",
       "      <th>3</th>\n",
       "      <td>American Samoa</td>\n",
       "      <td>1800</td>\n",
       "      <td>8170.0</td>\n",
       "    </tr>\n",
       "    <tr>\n",
       "      <th>4</th>\n",
       "      <td>Andorra</td>\n",
       "      <td>1800</td>\n",
       "      <td>2654.0</td>\n",
       "    </tr>\n",
       "    <tr>\n",
       "      <th>...</th>\n",
       "      <td>...</td>\n",
       "      <td>...</td>\n",
       "      <td>...</td>\n",
       "    </tr>\n",
       "    <tr>\n",
       "      <th>20171</th>\n",
       "      <td>Zambia</td>\n",
       "      <td>2015</td>\n",
       "      <td>16211767.0</td>\n",
       "    </tr>\n",
       "    <tr>\n",
       "      <th>20172</th>\n",
       "      <td>Zimbabwe</td>\n",
       "      <td>2015</td>\n",
       "      <td>15602751.0</td>\n",
       "    </tr>\n",
       "    <tr>\n",
       "      <th>20173</th>\n",
       "      <td>South Sudan</td>\n",
       "      <td>2015</td>\n",
       "      <td>12339812.0</td>\n",
       "    </tr>\n",
       "    <tr>\n",
       "      <th>20174</th>\n",
       "      <td>Curaçao</td>\n",
       "      <td>2015</td>\n",
       "      <td>157203.0</td>\n",
       "    </tr>\n",
       "    <tr>\n",
       "      <th>20175</th>\n",
       "      <td>Sint Maarten (Dutch part)</td>\n",
       "      <td>2015</td>\n",
       "      <td>38745.0</td>\n",
       "    </tr>\n",
       "  </tbody>\n",
       "</table>\n",
       "<p>20176 rows × 3 columns</p>\n",
       "</div>"
      ],
      "text/plain": [
       "                         country  year  total_population\n",
       "0                    Afghanistan  1800         3280000.0\n",
       "1                        Albania  1800          410445.0\n",
       "2                        Algeria  1800         2503218.0\n",
       "3                 American Samoa  1800            8170.0\n",
       "4                        Andorra  1800            2654.0\n",
       "...                          ...   ...               ...\n",
       "20171                     Zambia  2015        16211767.0\n",
       "20172                   Zimbabwe  2015        15602751.0\n",
       "20173                South Sudan  2015        12339812.0\n",
       "20174                    Curaçao  2015          157203.0\n",
       "20175  Sint Maarten (Dutch part)  2015           38745.0\n",
       "\n",
       "[20176 rows x 3 columns]"
      ]
     },
     "execution_count": 15,
     "metadata": {},
     "output_type": "execute_result"
    }
   ],
   "source": [
    "df_pop"
   ]
  },
  {
   "cell_type": "code",
   "execution_count": 16,
   "id": "f1d6543a-22ec-406d-918f-6a9a6013fdc0",
   "metadata": {},
   "outputs": [],
   "source": [
    "df_pop_filtered = df_pop[df_pop['year'] >= 1950]"
   ]
  },
  {
   "cell_type": "code",
   "execution_count": 17,
   "id": "e0c8b2b1-eafe-46bc-9f96-8d60923ed66b",
   "metadata": {},
   "outputs": [
    {
     "data": {
      "text/html": [
       "<div>\n",
       "<style scoped>\n",
       "    .dataframe tbody tr th:only-of-type {\n",
       "        vertical-align: middle;\n",
       "    }\n",
       "\n",
       "    .dataframe tbody tr th {\n",
       "        vertical-align: top;\n",
       "    }\n",
       "\n",
       "    .dataframe thead th {\n",
       "        text-align: right;\n",
       "    }\n",
       "</style>\n",
       "<table border=\"1\" class=\"dataframe\">\n",
       "  <thead>\n",
       "    <tr style=\"text-align: right;\">\n",
       "      <th></th>\n",
       "      <th>country</th>\n",
       "      <th>year</th>\n",
       "      <th>total_population</th>\n",
       "    </tr>\n",
       "  </thead>\n",
       "  <tbody>\n",
       "    <tr>\n",
       "      <th>3435</th>\n",
       "      <td>Afghanistan</td>\n",
       "      <td>1950</td>\n",
       "      <td>7752118.0</td>\n",
       "    </tr>\n",
       "    <tr>\n",
       "      <th>3436</th>\n",
       "      <td>Akrotiri and Dhekelia</td>\n",
       "      <td>1950</td>\n",
       "      <td>10661.0</td>\n",
       "    </tr>\n",
       "    <tr>\n",
       "      <th>3437</th>\n",
       "      <td>Albania</td>\n",
       "      <td>1950</td>\n",
       "      <td>1263171.0</td>\n",
       "    </tr>\n",
       "    <tr>\n",
       "      <th>3438</th>\n",
       "      <td>Algeria</td>\n",
       "      <td>1950</td>\n",
       "      <td>8872247.0</td>\n",
       "    </tr>\n",
       "    <tr>\n",
       "      <th>3439</th>\n",
       "      <td>American Samoa</td>\n",
       "      <td>1950</td>\n",
       "      <td>18937.0</td>\n",
       "    </tr>\n",
       "    <tr>\n",
       "      <th>...</th>\n",
       "      <td>...</td>\n",
       "      <td>...</td>\n",
       "      <td>...</td>\n",
       "    </tr>\n",
       "    <tr>\n",
       "      <th>20171</th>\n",
       "      <td>Zambia</td>\n",
       "      <td>2015</td>\n",
       "      <td>16211767.0</td>\n",
       "    </tr>\n",
       "    <tr>\n",
       "      <th>20172</th>\n",
       "      <td>Zimbabwe</td>\n",
       "      <td>2015</td>\n",
       "      <td>15602751.0</td>\n",
       "    </tr>\n",
       "    <tr>\n",
       "      <th>20173</th>\n",
       "      <td>South Sudan</td>\n",
       "      <td>2015</td>\n",
       "      <td>12339812.0</td>\n",
       "    </tr>\n",
       "    <tr>\n",
       "      <th>20174</th>\n",
       "      <td>Curaçao</td>\n",
       "      <td>2015</td>\n",
       "      <td>157203.0</td>\n",
       "    </tr>\n",
       "    <tr>\n",
       "      <th>20175</th>\n",
       "      <td>Sint Maarten (Dutch part)</td>\n",
       "      <td>2015</td>\n",
       "      <td>38745.0</td>\n",
       "    </tr>\n",
       "  </tbody>\n",
       "</table>\n",
       "<p>16741 rows × 3 columns</p>\n",
       "</div>"
      ],
      "text/plain": [
       "                         country  year  total_population\n",
       "3435                 Afghanistan  1950         7752118.0\n",
       "3436       Akrotiri and Dhekelia  1950           10661.0\n",
       "3437                     Albania  1950         1263171.0\n",
       "3438                     Algeria  1950         8872247.0\n",
       "3439              American Samoa  1950           18937.0\n",
       "...                          ...   ...               ...\n",
       "20171                     Zambia  2015        16211767.0\n",
       "20172                   Zimbabwe  2015        15602751.0\n",
       "20173                South Sudan  2015        12339812.0\n",
       "20174                    Curaçao  2015          157203.0\n",
       "20175  Sint Maarten (Dutch part)  2015           38745.0\n",
       "\n",
       "[16741 rows x 3 columns]"
      ]
     },
     "execution_count": 17,
     "metadata": {},
     "output_type": "execute_result"
    }
   ],
   "source": [
    "df_pop_filtered"
   ]
  },
  {
   "cell_type": "code",
   "execution_count": 18,
   "id": "8e331542-1824-4fa8-8775-577538eea61a",
   "metadata": {},
   "outputs": [],
   "source": [
    "#Make data persistant: save the dataset as a .csv file in your data folder as they will be used for the week’s project\n",
    "df_pop_filtered.to_csv('../data/filtered_population.csv', index= False)"
   ]
  },
  {
   "cell_type": "code",
   "execution_count": 19,
   "id": "e1005b7c-04da-45ff-bb18-7411ee907845",
   "metadata": {},
   "outputs": [],
   "source": [
    "#Repeat for the the life_expectancy, and fertility_rate datasets \n",
    "df_F= pd.read_csv('../data/fertility_rate.csv')"
   ]
  },
  {
   "cell_type": "code",
   "execution_count": 20,
   "id": "4cba3af0-8343-4098-96b3-06092add785c",
   "metadata": {},
   "outputs": [],
   "source": [
    "df_F.rename(columns={'Total fertility rate': 'country'}, inplace=True)"
   ]
  },
  {
   "cell_type": "code",
   "execution_count": 21,
   "id": "2e1c63a8-7a70-4c13-a6a9-80f01358a466",
   "metadata": {},
   "outputs": [
    {
     "data": {
      "text/plain": [
       "country          0\n",
       "year             0\n",
       "fertility    12747\n",
       "dtype: int64"
      ]
     },
     "execution_count": 21,
     "metadata": {},
     "output_type": "execute_result"
    }
   ],
   "source": [
    "df_F.isnull().sum()"
   ]
  },
  {
   "cell_type": "code",
   "execution_count": 22,
   "id": "f17f83f0-033e-4391-8f40-3260014dcbb0",
   "metadata": {},
   "outputs": [],
   "source": [
    "df_F.dropna(inplace =True)"
   ]
  },
  {
   "cell_type": "code",
   "execution_count": 23,
   "id": "5bc592e6-2962-4c2f-9e7e-4df7565016e3",
   "metadata": {},
   "outputs": [],
   "source": [
    "df_F_filtered = df_F[df_F['year'] >= 1950]"
   ]
  },
  {
   "cell_type": "code",
   "execution_count": 24,
   "id": "3147f3d1-a651-4063-8a91-15ffb9908a33",
   "metadata": {},
   "outputs": [],
   "source": [
    "df_F_filtered.to_csv('../data/filtered_fertility.csv', index= False)"
   ]
  },
  {
   "cell_type": "code",
   "execution_count": 25,
   "id": "f20ca426-7d14-4af4-860e-8a894958155d",
   "metadata": {},
   "outputs": [],
   "source": [
    "df_F_filtered.reset_index(drop = True,inplace = True)"
   ]
  },
  {
   "cell_type": "code",
   "execution_count": 26,
   "id": "51f39b99-c3ce-4c43-b10a-6ddde187183b",
   "metadata": {},
   "outputs": [],
   "source": [
    "df_F_filtered.to_csv('../data/filtered_fertility.csv', index= False)\n"
   ]
  },
  {
   "cell_type": "code",
   "execution_count": 27,
   "id": "f8163572-9451-49a9-bd1d-db22a64e3b83",
   "metadata": {},
   "outputs": [],
   "source": [
    "df_life= pd.read_excel('../data/life_expectancy.xls')"
   ]
  },
  {
   "cell_type": "code",
   "execution_count": 28,
   "id": "a5facd2e-25f7-4629-b38d-9b12a528f918",
   "metadata": {},
   "outputs": [
    {
     "data": {
      "text/plain": [
       "Life expectancy        0\n",
       "year                   0\n",
       "life expectancy    12563\n",
       "dtype: int64"
      ]
     },
     "execution_count": 28,
     "metadata": {},
     "output_type": "execute_result"
    }
   ],
   "source": [
    "df_life.isnull().sum()"
   ]
  },
  {
   "cell_type": "code",
   "execution_count": 29,
   "id": "c0b5a92b-16ee-43d8-adb9-0abb627479d6",
   "metadata": {},
   "outputs": [],
   "source": [
    "df_life.dropna(inplace = True)"
   ]
  },
  {
   "cell_type": "code",
   "execution_count": 30,
   "id": "e8f072f2-f8ad-42b1-a33a-3b40c9f7262d",
   "metadata": {},
   "outputs": [
    {
     "data": {
      "text/html": [
       "<div>\n",
       "<style scoped>\n",
       "    .dataframe tbody tr th:only-of-type {\n",
       "        vertical-align: middle;\n",
       "    }\n",
       "\n",
       "    .dataframe tbody tr th {\n",
       "        vertical-align: top;\n",
       "    }\n",
       "\n",
       "    .dataframe thead th {\n",
       "        text-align: right;\n",
       "    }\n",
       "</style>\n",
       "<table border=\"1\" class=\"dataframe\">\n",
       "  <thead>\n",
       "    <tr style=\"text-align: right;\">\n",
       "      <th></th>\n",
       "      <th>country</th>\n",
       "      <th>year</th>\n",
       "      <th>life expectancy</th>\n",
       "    </tr>\n",
       "  </thead>\n",
       "  <tbody>\n",
       "    <tr>\n",
       "      <th>1</th>\n",
       "      <td>Afghanistan</td>\n",
       "      <td>1800</td>\n",
       "      <td>28.21</td>\n",
       "    </tr>\n",
       "    <tr>\n",
       "      <th>3</th>\n",
       "      <td>Albania</td>\n",
       "      <td>1800</td>\n",
       "      <td>35.40</td>\n",
       "    </tr>\n",
       "    <tr>\n",
       "      <th>4</th>\n",
       "      <td>Algeria</td>\n",
       "      <td>1800</td>\n",
       "      <td>28.82</td>\n",
       "    </tr>\n",
       "    <tr>\n",
       "      <th>7</th>\n",
       "      <td>Angola</td>\n",
       "      <td>1800</td>\n",
       "      <td>26.98</td>\n",
       "    </tr>\n",
       "    <tr>\n",
       "      <th>9</th>\n",
       "      <td>Antigua and Barbuda</td>\n",
       "      <td>1800</td>\n",
       "      <td>33.54</td>\n",
       "    </tr>\n",
       "    <tr>\n",
       "      <th>...</th>\n",
       "      <td>...</td>\n",
       "      <td>...</td>\n",
       "      <td>...</td>\n",
       "    </tr>\n",
       "    <tr>\n",
       "      <th>56411</th>\n",
       "      <td>Virgin Islands (U.S.)</td>\n",
       "      <td>2016</td>\n",
       "      <td>80.82</td>\n",
       "    </tr>\n",
       "    <tr>\n",
       "      <th>56414</th>\n",
       "      <td>Yemen</td>\n",
       "      <td>2016</td>\n",
       "      <td>64.92</td>\n",
       "    </tr>\n",
       "    <tr>\n",
       "      <th>56416</th>\n",
       "      <td>Zambia</td>\n",
       "      <td>2016</td>\n",
       "      <td>57.10</td>\n",
       "    </tr>\n",
       "    <tr>\n",
       "      <th>56417</th>\n",
       "      <td>Zimbabwe</td>\n",
       "      <td>2016</td>\n",
       "      <td>61.69</td>\n",
       "    </tr>\n",
       "    <tr>\n",
       "      <th>56419</th>\n",
       "      <td>South Sudan</td>\n",
       "      <td>2016</td>\n",
       "      <td>56.10</td>\n",
       "    </tr>\n",
       "  </tbody>\n",
       "</table>\n",
       "<p>43857 rows × 3 columns</p>\n",
       "</div>"
      ],
      "text/plain": [
       "                     country  year  life expectancy\n",
       "1                Afghanistan  1800            28.21\n",
       "3                    Albania  1800            35.40\n",
       "4                    Algeria  1800            28.82\n",
       "7                     Angola  1800            26.98\n",
       "9        Antigua and Barbuda  1800            33.54\n",
       "...                      ...   ...              ...\n",
       "56411  Virgin Islands (U.S.)  2016            80.82\n",
       "56414                  Yemen  2016            64.92\n",
       "56416                 Zambia  2016            57.10\n",
       "56417               Zimbabwe  2016            61.69\n",
       "56419            South Sudan  2016            56.10\n",
       "\n",
       "[43857 rows x 3 columns]"
      ]
     },
     "execution_count": 30,
     "metadata": {},
     "output_type": "execute_result"
    }
   ],
   "source": [
    "\n",
    "df_life.rename(columns={'Life expectancy': 'country'}, inplace=True)\n",
    "df_life"
   ]
  },
  {
   "cell_type": "code",
   "execution_count": 31,
   "id": "bf16b206-c989-46a8-9684-8f91c959786d",
   "metadata": {},
   "outputs": [],
   "source": [
    "\n",
    "df_life_filtered = df_life[df_life['year'] >= 1950]"
   ]
  },
  {
   "cell_type": "code",
   "execution_count": 32,
   "id": "08781a15-34cf-4bb3-b8ab-d70a571f3f6b",
   "metadata": {},
   "outputs": [],
   "source": [
    "df_life_filtered.reset_index(drop = True,inplace = True)"
   ]
  },
  {
   "cell_type": "code",
   "execution_count": 33,
   "id": "80a47a6a-2657-4e95-b8e2-d56821e30535",
   "metadata": {},
   "outputs": [],
   "source": [
    "df_life_filtered.to_csv('../data/filtered_life_expectancy.csv', index= False)"
   ]
  },
  {
   "cell_type": "code",
   "execution_count": 34,
   "id": "b432760f-71f2-45be-8e1f-52b0b6226cf5",
   "metadata": {},
   "outputs": [],
   "source": [
    "life_df=df_life_filtered"
   ]
  },
  {
   "cell_type": "code",
   "execution_count": 35,
   "id": "46401290-38cf-4c08-97b6-ddb36b2208a7",
   "metadata": {},
   "outputs": [
    {
     "data": {
      "text/plain": [
       "62.98883344276646"
      ]
     },
     "execution_count": 35,
     "metadata": {},
     "output_type": "execute_result"
    }
   ],
   "source": [
    "# 2. calculate the mean life expectancy['life expectancy'].mean()\n",
    "\n",
    "\n",
    "life_df['life expectancy'].mean()"
   ]
  },
  {
   "cell_type": "code",
   "execution_count": 36,
   "id": "f46a5022-1152-4776-90a0-39853714d058",
   "metadata": {},
   "outputs": [
    {
     "data": {
      "text/html": [
       "<div>\n",
       "<style scoped>\n",
       "    .dataframe tbody tr th:only-of-type {\n",
       "        vertical-align: middle;\n",
       "    }\n",
       "\n",
       "    .dataframe tbody tr th {\n",
       "        vertical-align: top;\n",
       "    }\n",
       "\n",
       "    .dataframe thead th {\n",
       "        text-align: right;\n",
       "    }\n",
       "</style>\n",
       "<table border=\"1\" class=\"dataframe\">\n",
       "  <thead>\n",
       "    <tr style=\"text-align: right;\">\n",
       "      <th></th>\n",
       "      <th>country</th>\n",
       "      <th>year</th>\n",
       "      <th>life expectancy</th>\n",
       "    </tr>\n",
       "  </thead>\n",
       "  <tbody>\n",
       "    <tr>\n",
       "      <th>0</th>\n",
       "      <td>Afghanistan</td>\n",
       "      <td>1950</td>\n",
       "      <td>26.85</td>\n",
       "    </tr>\n",
       "    <tr>\n",
       "      <th>1</th>\n",
       "      <td>Albania</td>\n",
       "      <td>1950</td>\n",
       "      <td>54.48</td>\n",
       "    </tr>\n",
       "    <tr>\n",
       "      <th>2</th>\n",
       "      <td>Algeria</td>\n",
       "      <td>1950</td>\n",
       "      <td>42.77</td>\n",
       "    </tr>\n",
       "    <tr>\n",
       "      <th>3</th>\n",
       "      <td>Angola</td>\n",
       "      <td>1950</td>\n",
       "      <td>30.70</td>\n",
       "    </tr>\n",
       "    <tr>\n",
       "      <th>4</th>\n",
       "      <td>Antigua and Barbuda</td>\n",
       "      <td>1950</td>\n",
       "      <td>57.97</td>\n",
       "    </tr>\n",
       "    <tr>\n",
       "      <th>...</th>\n",
       "      <td>...</td>\n",
       "      <td>...</td>\n",
       "      <td>...</td>\n",
       "    </tr>\n",
       "    <tr>\n",
       "      <th>13702</th>\n",
       "      <td>Virgin Islands (U.S.)</td>\n",
       "      <td>2016</td>\n",
       "      <td>80.82</td>\n",
       "    </tr>\n",
       "    <tr>\n",
       "      <th>13703</th>\n",
       "      <td>Yemen</td>\n",
       "      <td>2016</td>\n",
       "      <td>64.92</td>\n",
       "    </tr>\n",
       "    <tr>\n",
       "      <th>13704</th>\n",
       "      <td>Zambia</td>\n",
       "      <td>2016</td>\n",
       "      <td>57.10</td>\n",
       "    </tr>\n",
       "    <tr>\n",
       "      <th>13705</th>\n",
       "      <td>Zimbabwe</td>\n",
       "      <td>2016</td>\n",
       "      <td>61.69</td>\n",
       "    </tr>\n",
       "    <tr>\n",
       "      <th>13706</th>\n",
       "      <td>South Sudan</td>\n",
       "      <td>2016</td>\n",
       "      <td>56.10</td>\n",
       "    </tr>\n",
       "  </tbody>\n",
       "</table>\n",
       "<p>13707 rows × 3 columns</p>\n",
       "</div>"
      ],
      "text/plain": [
       "                     country  year  life expectancy\n",
       "0                Afghanistan  1950            26.85\n",
       "1                    Albania  1950            54.48\n",
       "2                    Algeria  1950            42.77\n",
       "3                     Angola  1950            30.70\n",
       "4        Antigua and Barbuda  1950            57.97\n",
       "...                      ...   ...              ...\n",
       "13702  Virgin Islands (U.S.)  2016            80.82\n",
       "13703                  Yemen  2016            64.92\n",
       "13704                 Zambia  2016            57.10\n",
       "13705               Zimbabwe  2016            61.69\n",
       "13706            South Sudan  2016            56.10\n",
       "\n",
       "[13707 rows x 3 columns]"
      ]
     },
     "execution_count": 36,
     "metadata": {},
     "output_type": "execute_result"
    }
   ],
   "source": [
    "life_df"
   ]
  },
  {
   "cell_type": "code",
   "execution_count": 37,
   "id": "c744a082-b8f7-40aa-9836-0c6c27934b2d",
   "metadata": {},
   "outputs": [
    {
     "data": {
      "text/plain": [
       "68.0777033492823"
      ]
     },
     "execution_count": 37,
     "metadata": {},
     "output_type": "execute_result"
    }
   ],
   "source": [
    "# 3. calculate the mean life expectancy for the year 2000\n",
    "\n",
    "life_df_2000 = life_df[life_df['year'] == 2000]\n",
    "\n",
    "life_df_2000['life expectancy'].mean()"
   ]
  },
  {
   "cell_type": "code",
   "execution_count": 38,
   "id": "68c18569-3c56-442b-84f0-be2f7d883b5a",
   "metadata": {},
   "outputs": [
    {
     "data": {
      "text/plain": [
       "70.0"
      ]
     },
     "execution_count": 38,
     "metadata": {},
     "output_type": "execute_result"
    }
   ],
   "source": [
    "# 4. calculate the median for 1995\n",
    "life_df_1995 = life_df[life_df['year'] == 1995]\n",
    "life_df_1995['life expectancy'].median()"
   ]
  },
  {
   "cell_type": "code",
   "execution_count": 39,
   "id": "47fc4a47-1a9e-49e6-a66a-057dec843f65",
   "metadata": {},
   "outputs": [
    {
     "data": {
      "text/plain": [
       "11.89557179977113"
      ]
     },
     "execution_count": 39,
     "metadata": {},
     "output_type": "execute_result"
    }
   ],
   "source": [
    "# 5. calculate the standard deviation\n",
    "life_df['life expectancy'].std()"
   ]
  },
  {
   "cell_type": "code",
   "execution_count": 40,
   "id": "5c356330-4591-4e1c-963a-ea8b3f15dbdd",
   "metadata": {},
   "outputs": [
    {
     "data": {
      "text/plain": [
       "84.8"
      ]
     },
     "execution_count": 40,
     "metadata": {},
     "output_type": "execute_result"
    }
   ],
   "source": [
    "# 6. find the highest life expectancy\n",
    "max_life = life_df['life expectancy'].max()\n",
    "max_life"
   ]
  },
  {
   "cell_type": "code",
   "execution_count": 41,
   "id": "07a6da58-9ad8-4617-8070-8d14c79f9544",
   "metadata": {},
   "outputs": [
    {
     "data": {
      "text/plain": [
       "12879    2013\n",
       "13087    2014\n",
       "13295    2015\n",
       "13503    2016\n",
       "Name: year, dtype: int64"
      ]
     },
     "execution_count": 41,
     "metadata": {},
     "output_type": "execute_result"
    }
   ],
   "source": [
    "# 7. find the country and year for the highest life expectancy\n",
    "mask_max = life_df['life expectancy']== max_life\n",
    "life_df_max = life_df[mask_max]\n",
    "life_df_max\n",
    "life_df_max['year']"
   ]
  },
  {
   "cell_type": "code",
   "execution_count": 42,
   "id": "00085268-ff6c-4662-8f86-a8966e6df569",
   "metadata": {},
   "outputs": [
    {
     "data": {
      "text/plain": [
       "13.2"
      ]
     },
     "execution_count": 42,
     "metadata": {},
     "output_type": "execute_result"
    }
   ],
   "source": [
    "# 8. find the lowest life expectancy\n",
    "min_life = life_df['life expectancy'].min()\n",
    "min_life"
   ]
  },
  {
   "cell_type": "code",
   "execution_count": 43,
   "id": "eb69849a-004e-4a0b-aaef-48e98240fd45",
   "metadata": {},
   "outputs": [
    {
     "data": {
      "text/plain": [
       "12879    2013\n",
       "13087    2014\n",
       "13295    2015\n",
       "13503    2016\n",
       "Name: year, dtype: int64"
      ]
     },
     "execution_count": 43,
     "metadata": {},
     "output_type": "execute_result"
    }
   ],
   "source": [
    "# 9. find the country and year was the lowest life expectancy\n",
    "mask_min = life_df['life expectancy']== min_life\n",
    "life_df_min = life_df[mask_max]\n",
    "life_df_min\n",
    "life_df_min['year']"
   ]
  },
  {
   "cell_type": "code",
   "execution_count": 44,
   "id": "aee0169c-15f3-44dd-9ccd-e9acb7af9b0c",
   "metadata": {},
   "outputs": [
    {
     "data": {
      "text/plain": [
       "76.4"
      ]
     },
     "execution_count": 44,
     "metadata": {},
     "output_type": "execute_result"
    }
   ],
   "source": [
    "# 10. find the 90% quantile of the life expectancy\n",
    "life_df['life expectancy'].quantile(0.9)"
   ]
  },
  {
   "cell_type": "code",
   "execution_count": 45,
   "id": "aee4667d-59d2-40af-998a-e5eeab802b69",
   "metadata": {},
   "outputs": [
    {
     "data": {
      "text/html": [
       "<div>\n",
       "<style scoped>\n",
       "    .dataframe tbody tr th:only-of-type {\n",
       "        vertical-align: middle;\n",
       "    }\n",
       "\n",
       "    .dataframe tbody tr th {\n",
       "        vertical-align: top;\n",
       "    }\n",
       "\n",
       "    .dataframe thead th {\n",
       "        text-align: right;\n",
       "    }\n",
       "</style>\n",
       "<table border=\"1\" class=\"dataframe\">\n",
       "  <thead>\n",
       "    <tr style=\"text-align: right;\">\n",
       "      <th></th>\n",
       "      <th>year</th>\n",
       "      <th>life expectancy</th>\n",
       "    </tr>\n",
       "  </thead>\n",
       "  <tbody>\n",
       "    <tr>\n",
       "      <th>count</th>\n",
       "      <td>13707.000000</td>\n",
       "      <td>13707.000000</td>\n",
       "    </tr>\n",
       "    <tr>\n",
       "      <th>mean</th>\n",
       "      <td>1983.251550</td>\n",
       "      <td>62.988833</td>\n",
       "    </tr>\n",
       "    <tr>\n",
       "      <th>std</th>\n",
       "      <td>19.364466</td>\n",
       "      <td>11.895572</td>\n",
       "    </tr>\n",
       "    <tr>\n",
       "      <th>min</th>\n",
       "      <td>1950.000000</td>\n",
       "      <td>13.200000</td>\n",
       "    </tr>\n",
       "    <tr>\n",
       "      <th>25%</th>\n",
       "      <td>1966.000000</td>\n",
       "      <td>54.815000</td>\n",
       "    </tr>\n",
       "    <tr>\n",
       "      <th>50%</th>\n",
       "      <td>1983.000000</td>\n",
       "      <td>65.570000</td>\n",
       "    </tr>\n",
       "    <tr>\n",
       "      <th>75%</th>\n",
       "      <td>2000.000000</td>\n",
       "      <td>72.230000</td>\n",
       "    </tr>\n",
       "    <tr>\n",
       "      <th>max</th>\n",
       "      <td>2016.000000</td>\n",
       "      <td>84.800000</td>\n",
       "    </tr>\n",
       "  </tbody>\n",
       "</table>\n",
       "</div>"
      ],
      "text/plain": [
       "               year  life expectancy\n",
       "count  13707.000000     13707.000000\n",
       "mean    1983.251550        62.988833\n",
       "std       19.364466        11.895572\n",
       "min     1950.000000        13.200000\n",
       "25%     1966.000000        54.815000\n",
       "50%     1983.000000        65.570000\n",
       "75%     2000.000000        72.230000\n",
       "max     2016.000000        84.800000"
      ]
     },
     "execution_count": 45,
     "metadata": {},
     "output_type": "execute_result"
    }
   ],
   "source": [
    "# 11. calculate min, max, mean and possibly other descriptors with a single line\n",
    "life_df.describe()"
   ]
  },
  {
   "cell_type": "code",
   "execution_count": 46,
   "id": "bb89ec0e-49c2-4434-8599-b3eaca42f0c9",
   "metadata": {},
   "outputs": [],
   "source": [
    "df_fertility= df_F_filtered"
   ]
  },
  {
   "cell_type": "code",
   "execution_count": 47,
   "id": "dd801860-7ff3-4019-b41e-1f211b29a5c2",
   "metadata": {},
   "outputs": [],
   "source": [
    "df_population = df_pop_filtered"
   ]
  },
  {
   "cell_type": "code",
   "execution_count": 48,
   "id": "6a52cc5a-29da-4c3b-bbd9-b8382819fc1d",
   "metadata": {},
   "outputs": [],
   "source": [
    "df_continents = pd.read_csv('../data/continents.csv', sep = ';')\n"
   ]
  },
  {
   "cell_type": "code",
   "execution_count": 49,
   "id": "b3edc4e7-19e8-4bb2-9d6b-fbf62bc98973",
   "metadata": {},
   "outputs": [
    {
     "data": {
      "text/html": [
       "<div>\n",
       "<style scoped>\n",
       "    .dataframe tbody tr th:only-of-type {\n",
       "        vertical-align: middle;\n",
       "    }\n",
       "\n",
       "    .dataframe tbody tr th {\n",
       "        vertical-align: top;\n",
       "    }\n",
       "\n",
       "    .dataframe thead th {\n",
       "        text-align: right;\n",
       "    }\n",
       "</style>\n",
       "<table border=\"1\" class=\"dataframe\">\n",
       "  <thead>\n",
       "    <tr style=\"text-align: right;\">\n",
       "      <th></th>\n",
       "      <th>country</th>\n",
       "      <th>year</th>\n",
       "      <th>life expectancy</th>\n",
       "      <th>continent</th>\n",
       "    </tr>\n",
       "  </thead>\n",
       "  <tbody>\n",
       "    <tr>\n",
       "      <th>0</th>\n",
       "      <td>Afghanistan</td>\n",
       "      <td>1800</td>\n",
       "      <td>28.21</td>\n",
       "      <td>Asia</td>\n",
       "    </tr>\n",
       "    <tr>\n",
       "      <th>1</th>\n",
       "      <td>Afghanistan</td>\n",
       "      <td>1801</td>\n",
       "      <td>28.20</td>\n",
       "      <td>Asia</td>\n",
       "    </tr>\n",
       "    <tr>\n",
       "      <th>2</th>\n",
       "      <td>Afghanistan</td>\n",
       "      <td>1802</td>\n",
       "      <td>28.19</td>\n",
       "      <td>Asia</td>\n",
       "    </tr>\n",
       "    <tr>\n",
       "      <th>3</th>\n",
       "      <td>Afghanistan</td>\n",
       "      <td>1803</td>\n",
       "      <td>28.18</td>\n",
       "      <td>Asia</td>\n",
       "    </tr>\n",
       "    <tr>\n",
       "      <th>4</th>\n",
       "      <td>Afghanistan</td>\n",
       "      <td>1804</td>\n",
       "      <td>28.17</td>\n",
       "      <td>Asia</td>\n",
       "    </tr>\n",
       "    <tr>\n",
       "      <th>...</th>\n",
       "      <td>...</td>\n",
       "      <td>...</td>\n",
       "      <td>...</td>\n",
       "      <td>...</td>\n",
       "    </tr>\n",
       "    <tr>\n",
       "      <th>36749</th>\n",
       "      <td>Marshall Islands</td>\n",
       "      <td>2012</td>\n",
       "      <td>66.20</td>\n",
       "      <td>Australia and Oceania</td>\n",
       "    </tr>\n",
       "    <tr>\n",
       "      <th>36750</th>\n",
       "      <td>Marshall Islands</td>\n",
       "      <td>2013</td>\n",
       "      <td>66.50</td>\n",
       "      <td>Australia and Oceania</td>\n",
       "    </tr>\n",
       "    <tr>\n",
       "      <th>36751</th>\n",
       "      <td>Marshall Islands</td>\n",
       "      <td>2014</td>\n",
       "      <td>66.70</td>\n",
       "      <td>Australia and Oceania</td>\n",
       "    </tr>\n",
       "    <tr>\n",
       "      <th>36752</th>\n",
       "      <td>Marshall Islands</td>\n",
       "      <td>2015</td>\n",
       "      <td>66.90</td>\n",
       "      <td>Australia and Oceania</td>\n",
       "    </tr>\n",
       "    <tr>\n",
       "      <th>36753</th>\n",
       "      <td>Marshall Islands</td>\n",
       "      <td>2016</td>\n",
       "      <td>67.10</td>\n",
       "      <td>Australia and Oceania</td>\n",
       "    </tr>\n",
       "  </tbody>\n",
       "</table>\n",
       "<p>36754 rows × 4 columns</p>\n",
       "</div>"
      ],
      "text/plain": [
       "                country  year  life expectancy              continent\n",
       "0           Afghanistan  1800            28.21                   Asia\n",
       "1           Afghanistan  1801            28.20                   Asia\n",
       "2           Afghanistan  1802            28.19                   Asia\n",
       "3           Afghanistan  1803            28.18                   Asia\n",
       "4           Afghanistan  1804            28.17                   Asia\n",
       "...                 ...   ...              ...                    ...\n",
       "36749  Marshall Islands  2012            66.20  Australia and Oceania\n",
       "36750  Marshall Islands  2013            66.50  Australia and Oceania\n",
       "36751  Marshall Islands  2014            66.70  Australia and Oceania\n",
       "36752  Marshall Islands  2015            66.90  Australia and Oceania\n",
       "36753  Marshall Islands  2016            67.10  Australia and Oceania\n",
       "\n",
       "[36754 rows x 4 columns]"
      ]
     },
     "execution_count": 49,
     "metadata": {},
     "output_type": "execute_result"
    }
   ],
   "source": [
    "df_merge_CL = pd.merge(right =df_continents , left= df_life)\n",
    "df_merge_CL"
   ]
  },
  {
   "cell_type": "code",
   "execution_count": 50,
   "id": "a887c4f3-6b76-4259-9257-3f8184a64cf4",
   "metadata": {},
   "outputs": [
    {
     "data": {
      "text/html": [
       "<div>\n",
       "<style scoped>\n",
       "    .dataframe tbody tr th:only-of-type {\n",
       "        vertical-align: middle;\n",
       "    }\n",
       "\n",
       "    .dataframe tbody tr th {\n",
       "        vertical-align: top;\n",
       "    }\n",
       "\n",
       "    .dataframe thead th {\n",
       "        text-align: right;\n",
       "    }\n",
       "</style>\n",
       "<table border=\"1\" class=\"dataframe\">\n",
       "  <thead>\n",
       "    <tr style=\"text-align: right;\">\n",
       "      <th></th>\n",
       "      <th>country</th>\n",
       "      <th>year</th>\n",
       "      <th>fertility</th>\n",
       "      <th>total_population</th>\n",
       "    </tr>\n",
       "  </thead>\n",
       "  <tbody>\n",
       "    <tr>\n",
       "      <th>0</th>\n",
       "      <td>Afghanistan</td>\n",
       "      <td>1950</td>\n",
       "      <td>7.67</td>\n",
       "      <td>7752118.0</td>\n",
       "    </tr>\n",
       "    <tr>\n",
       "      <th>1</th>\n",
       "      <td>Albania</td>\n",
       "      <td>1950</td>\n",
       "      <td>5.80</td>\n",
       "      <td>1263171.0</td>\n",
       "    </tr>\n",
       "    <tr>\n",
       "      <th>2</th>\n",
       "      <td>Algeria</td>\n",
       "      <td>1950</td>\n",
       "      <td>7.65</td>\n",
       "      <td>8872247.0</td>\n",
       "    </tr>\n",
       "    <tr>\n",
       "      <th>3</th>\n",
       "      <td>Angola</td>\n",
       "      <td>1950</td>\n",
       "      <td>6.93</td>\n",
       "      <td>4354882.0</td>\n",
       "    </tr>\n",
       "    <tr>\n",
       "      <th>4</th>\n",
       "      <td>Antigua and Barbuda</td>\n",
       "      <td>1950</td>\n",
       "      <td>4.45</td>\n",
       "      <td>46301.0</td>\n",
       "    </tr>\n",
       "    <tr>\n",
       "      <th>...</th>\n",
       "      <td>...</td>\n",
       "      <td>...</td>\n",
       "      <td>...</td>\n",
       "      <td>...</td>\n",
       "    </tr>\n",
       "    <tr>\n",
       "      <th>13255</th>\n",
       "      <td>Vietnam</td>\n",
       "      <td>2015</td>\n",
       "      <td>1.70</td>\n",
       "      <td>93447601.0</td>\n",
       "    </tr>\n",
       "    <tr>\n",
       "      <th>13256</th>\n",
       "      <td>Virgin Islands (U.S.)</td>\n",
       "      <td>2015</td>\n",
       "      <td>2.45</td>\n",
       "      <td>106291.0</td>\n",
       "    </tr>\n",
       "    <tr>\n",
       "      <th>13257</th>\n",
       "      <td>Yemen</td>\n",
       "      <td>2015</td>\n",
       "      <td>3.83</td>\n",
       "      <td>26832215.0</td>\n",
       "    </tr>\n",
       "    <tr>\n",
       "      <th>13258</th>\n",
       "      <td>Zambia</td>\n",
       "      <td>2015</td>\n",
       "      <td>5.59</td>\n",
       "      <td>16211767.0</td>\n",
       "    </tr>\n",
       "    <tr>\n",
       "      <th>13259</th>\n",
       "      <td>Zimbabwe</td>\n",
       "      <td>2015</td>\n",
       "      <td>3.35</td>\n",
       "      <td>15602751.0</td>\n",
       "    </tr>\n",
       "  </tbody>\n",
       "</table>\n",
       "<p>13260 rows × 4 columns</p>\n",
       "</div>"
      ],
      "text/plain": [
       "                     country  year  fertility  total_population\n",
       "0                Afghanistan  1950       7.67         7752118.0\n",
       "1                    Albania  1950       5.80         1263171.0\n",
       "2                    Algeria  1950       7.65         8872247.0\n",
       "3                     Angola  1950       6.93         4354882.0\n",
       "4        Antigua and Barbuda  1950       4.45           46301.0\n",
       "...                      ...   ...        ...               ...\n",
       "13255                Vietnam  2015       1.70        93447601.0\n",
       "13256  Virgin Islands (U.S.)  2015       2.45          106291.0\n",
       "13257                  Yemen  2015       3.83        26832215.0\n",
       "13258                 Zambia  2015       5.59        16211767.0\n",
       "13259               Zimbabwe  2015       3.35        15602751.0\n",
       "\n",
       "[13260 rows x 4 columns]"
      ]
     },
     "execution_count": 50,
     "metadata": {},
     "output_type": "execute_result"
    }
   ],
   "source": [
    "df_merge_PF = pd.merge(right =df_population , left= df_fertility, on=['country', 'year'])\n",
    "df_merge_PF"
   ]
  },
  {
   "cell_type": "code",
   "execution_count": 51,
   "id": "8e3dc1a9-3d71-4e3a-9675-1c8f4f185a8f",
   "metadata": {},
   "outputs": [
    {
     "data": {
      "text/html": [
       "<div>\n",
       "<style scoped>\n",
       "    .dataframe tbody tr th:only-of-type {\n",
       "        vertical-align: middle;\n",
       "    }\n",
       "\n",
       "    .dataframe tbody tr th {\n",
       "        vertical-align: top;\n",
       "    }\n",
       "\n",
       "    .dataframe thead th {\n",
       "        text-align: right;\n",
       "    }\n",
       "</style>\n",
       "<table border=\"1\" class=\"dataframe\">\n",
       "  <thead>\n",
       "    <tr style=\"text-align: right;\">\n",
       "      <th></th>\n",
       "      <th>country</th>\n",
       "      <th>year</th>\n",
       "      <th>life expectancy</th>\n",
       "      <th>continent</th>\n",
       "      <th>fertility</th>\n",
       "      <th>total_population</th>\n",
       "    </tr>\n",
       "  </thead>\n",
       "  <tbody>\n",
       "    <tr>\n",
       "      <th>0</th>\n",
       "      <td>Afghanistan</td>\n",
       "      <td>1950</td>\n",
       "      <td>26.85</td>\n",
       "      <td>Asia</td>\n",
       "      <td>7.67</td>\n",
       "      <td>7752118.0</td>\n",
       "    </tr>\n",
       "    <tr>\n",
       "      <th>1</th>\n",
       "      <td>Afghanistan</td>\n",
       "      <td>1951</td>\n",
       "      <td>27.13</td>\n",
       "      <td>Asia</td>\n",
       "      <td>7.67</td>\n",
       "      <td>7839426.0</td>\n",
       "    </tr>\n",
       "    <tr>\n",
       "      <th>2</th>\n",
       "      <td>Afghanistan</td>\n",
       "      <td>1952</td>\n",
       "      <td>27.67</td>\n",
       "      <td>Asia</td>\n",
       "      <td>7.67</td>\n",
       "      <td>7934798.0</td>\n",
       "    </tr>\n",
       "    <tr>\n",
       "      <th>3</th>\n",
       "      <td>Afghanistan</td>\n",
       "      <td>1953</td>\n",
       "      <td>28.19</td>\n",
       "      <td>Asia</td>\n",
       "      <td>7.67</td>\n",
       "      <td>8038312.0</td>\n",
       "    </tr>\n",
       "    <tr>\n",
       "      <th>4</th>\n",
       "      <td>Afghanistan</td>\n",
       "      <td>1954</td>\n",
       "      <td>28.73</td>\n",
       "      <td>Asia</td>\n",
       "      <td>7.67</td>\n",
       "      <td>8150037.0</td>\n",
       "    </tr>\n",
       "    <tr>\n",
       "      <th>...</th>\n",
       "      <td>...</td>\n",
       "      <td>...</td>\n",
       "      <td>...</td>\n",
       "      <td>...</td>\n",
       "      <td>...</td>\n",
       "      <td>...</td>\n",
       "    </tr>\n",
       "    <tr>\n",
       "      <th>11083</th>\n",
       "      <td>Zimbabwe</td>\n",
       "      <td>2011</td>\n",
       "      <td>51.60</td>\n",
       "      <td>Africa</td>\n",
       "      <td>3.64</td>\n",
       "      <td>14255592.0</td>\n",
       "    </tr>\n",
       "    <tr>\n",
       "      <th>11084</th>\n",
       "      <td>Zimbabwe</td>\n",
       "      <td>2012</td>\n",
       "      <td>54.20</td>\n",
       "      <td>Africa</td>\n",
       "      <td>3.56</td>\n",
       "      <td>14565482.0</td>\n",
       "    </tr>\n",
       "    <tr>\n",
       "      <th>11085</th>\n",
       "      <td>Zimbabwe</td>\n",
       "      <td>2013</td>\n",
       "      <td>55.70</td>\n",
       "      <td>Africa</td>\n",
       "      <td>3.49</td>\n",
       "      <td>14898092.0</td>\n",
       "    </tr>\n",
       "    <tr>\n",
       "      <th>11086</th>\n",
       "      <td>Zimbabwe</td>\n",
       "      <td>2014</td>\n",
       "      <td>57.00</td>\n",
       "      <td>Africa</td>\n",
       "      <td>3.41</td>\n",
       "      <td>15245855.0</td>\n",
       "    </tr>\n",
       "    <tr>\n",
       "      <th>11087</th>\n",
       "      <td>Zimbabwe</td>\n",
       "      <td>2015</td>\n",
       "      <td>59.30</td>\n",
       "      <td>Africa</td>\n",
       "      <td>3.35</td>\n",
       "      <td>15602751.0</td>\n",
       "    </tr>\n",
       "  </tbody>\n",
       "</table>\n",
       "<p>11088 rows × 6 columns</p>\n",
       "</div>"
      ],
      "text/plain": [
       "           country  year  life expectancy continent  fertility  \\\n",
       "0      Afghanistan  1950            26.85      Asia       7.67   \n",
       "1      Afghanistan  1951            27.13      Asia       7.67   \n",
       "2      Afghanistan  1952            27.67      Asia       7.67   \n",
       "3      Afghanistan  1953            28.19      Asia       7.67   \n",
       "4      Afghanistan  1954            28.73      Asia       7.67   \n",
       "...            ...   ...              ...       ...        ...   \n",
       "11083     Zimbabwe  2011            51.60    Africa       3.64   \n",
       "11084     Zimbabwe  2012            54.20    Africa       3.56   \n",
       "11085     Zimbabwe  2013            55.70    Africa       3.49   \n",
       "11086     Zimbabwe  2014            57.00    Africa       3.41   \n",
       "11087     Zimbabwe  2015            59.30    Africa       3.35   \n",
       "\n",
       "       total_population  \n",
       "0             7752118.0  \n",
       "1             7839426.0  \n",
       "2             7934798.0  \n",
       "3             8038312.0  \n",
       "4             8150037.0  \n",
       "...                 ...  \n",
       "11083        14255592.0  \n",
       "11084        14565482.0  \n",
       "11085        14898092.0  \n",
       "11086        15245855.0  \n",
       "11087        15602751.0  \n",
       "\n",
       "[11088 rows x 6 columns]"
      ]
     },
     "execution_count": 51,
     "metadata": {},
     "output_type": "execute_result"
    }
   ],
   "source": [
    "df_merge_all=pd.merge(right =df_merge_PF , left= df_merge_CL, on= ['country','year'])\n",
    "df_merge_all"
   ]
  },
  {
   "cell_type": "code",
   "execution_count": 52,
   "id": "7bfda2f7-bbee-411a-a1a8-af8305d05241",
   "metadata": {},
   "outputs": [],
   "source": [
    "df_merge_all.to_csv('../data/gapminder_total.csv')"
   ]
  },
  {
   "cell_type": "code",
   "execution_count": 53,
   "id": "27f4e69e-17fe-4313-a534-c47c70262e2e",
   "metadata": {},
   "outputs": [],
   "source": [
    "df= df_merge_all"
   ]
  },
  {
   "cell_type": "code",
   "execution_count": 54,
   "id": "14081064-1cc4-45b2-9376-0488d0f08fb2",
   "metadata": {},
   "outputs": [
    {
     "data": {
      "text/plain": [
       "5190648.5"
      ]
     },
     "execution_count": 54,
     "metadata": {},
     "output_type": "execute_result"
    }
   ],
   "source": [
    "\n",
    "# 2. What is the median population in the data set?\n",
    "df['total_population'].median()"
   ]
  },
  {
   "cell_type": "code",
   "execution_count": 55,
   "id": "a94a5ae3-2093-43b8-8859-17aa1d2e1d2f",
   "metadata": {},
   "outputs": [
    {
     "data": {
      "text/plain": [
       "continent\n",
       "Africa                   3234\n",
       "Europe                   2640\n",
       "Asia                     2574\n",
       "North America            1254\n",
       "South America             792\n",
       "Australia and Oceania     594\n",
       "Name: count, dtype: int64"
      ]
     },
     "execution_count": 55,
     "metadata": {},
     "output_type": "execute_result"
    }
   ],
   "source": [
    "# 3. How often does each continent appear in the data set?\n",
    "df.value_counts('continent')"
   ]
  },
  {
   "cell_type": "code",
   "execution_count": 56,
   "id": "e7e2378c-21d9-4380-a34d-5c8e1060644e",
   "metadata": {},
   "outputs": [
    {
     "data": {
      "text/plain": [
       "'Europe'"
      ]
     },
     "execution_count": 56,
     "metadata": {},
     "output_type": "execute_result"
    }
   ],
   "source": [
    "#  4. Which continent has the lowest average fertility rate overall?\n",
    "df_fertility_1= df.groupby('continent')['fertility'].mean()\n",
    "df_fertility_1.idxmin()"
   ]
  },
  {
   "cell_type": "code",
   "execution_count": 57,
   "id": "45fc338e-ac2e-4043-80fd-dfd67d895e25",
   "metadata": {},
   "outputs": [
    {
     "data": {
      "text/plain": [
       "continent\n",
       "Africa                   63.410204\n",
       "Asia                     73.933333\n",
       "Australia and Oceania    69.666667\n",
       "Europe                   78.755000\n",
       "North America            75.152632\n",
       "South America            75.141667\n",
       "Name: life expectancy, dtype: float64"
      ]
     },
     "execution_count": 57,
     "metadata": {},
     "output_type": "execute_result"
    }
   ],
   "source": [
    "# 5. What was the average life expectancy in Europe in 2015? \n",
    "df_2015 = df[df['year'] == 2015]\n",
    "df_2015.groupby('continent')['life expectancy'].agg('mean')\n"
   ]
  },
  {
   "cell_type": "code",
   "execution_count": 58,
   "id": "9647b521-bc26-4407-9c9d-c4654dba0b0a",
   "metadata": {},
   "outputs": [
    {
     "data": {
      "text/plain": [
       "continent\n",
       "Africa                   49\n",
       "Asia                     39\n",
       "Australia and Oceania     9\n",
       "Europe                   40\n",
       "North America            19\n",
       "South America            12\n",
       "Name: country, dtype: int64"
      ]
     },
     "execution_count": 58,
     "metadata": {},
     "output_type": "execute_result"
    }
   ],
   "source": [
    "# 6. How many countries does each continent have in the dataset?\n",
    "\n",
    "df_2015.groupby('continent')['country'].agg('count')"
   ]
  },
  {
   "cell_type": "code",
   "execution_count": 59,
   "id": "63a29ae5-8f12-4b47-a32d-6d72ea955583",
   "metadata": {},
   "outputs": [
    {
     "data": {
      "text/plain": [
       "continent\n",
       "Africa                    21417684\n",
       "Asia                     109528467\n",
       "Australia and Oceania      4252114\n",
       "Europe                    15122675\n",
       "North America             29900365\n",
       "South America             34847973\n",
       "Name: total_population, dtype: int32"
      ]
     },
     "execution_count": 59,
     "metadata": {},
     "output_type": "execute_result"
    }
   ],
   "source": [
    "# 7. What is the average population of a European country in 1976 compare to 2015?\n",
    "df_2015.groupby('continent')['total_population'].agg('mean').astype(int)"
   ]
  },
  {
   "cell_type": "code",
   "execution_count": 60,
   "id": "9c572af6-1049-42fb-8f70-62655efc0827",
   "metadata": {},
   "outputs": [
    {
     "name": "stderr",
     "output_type": "stream",
     "text": [
      "C:\\Users\\MarinaBishay\\AppData\\Local\\Temp\\ipykernel_9368\\331348572.py:2: FutureWarning: The provided callable <built-in function max> is currently using SeriesGroupBy.max. In a future version of pandas, the provided callable will be used directly. To keep current behavior pass the string \"max\" instead.\n",
      "  df_max = df.groupby('continent')['total_population'].agg(max).astype(int)\n"
     ]
    },
    {
     "data": {
      "text/plain": [
       "'Asia'"
      ]
     },
     "execution_count": 60,
     "metadata": {},
     "output_type": "execute_result"
    }
   ],
   "source": [
    "# 8. What is the highest population a continent ever had?\n",
    "df_max = df.groupby('continent')['total_population'].agg(max).astype(int)\n",
    "df_max.idxmax()"
   ]
  },
  {
   "cell_type": "code",
   "execution_count": 61,
   "id": "282006e9-7a77-4086-8103-7fe8bccf4fca",
   "metadata": {},
   "outputs": [
    {
     "data": {
      "text/plain": [
       "('Asia', 2015)"
      ]
     },
     "execution_count": 61,
     "metadata": {},
     "output_type": "execute_result"
    }
   ],
   "source": [
    "# 9. Which continent had that population and in which year?\n",
    "\n",
    "highest_pop_year= df.groupby(['continent','year'])['total_population'].max()\n",
    "highest_pop_year.idxmax()"
   ]
  },
  {
   "cell_type": "code",
   "execution_count": 62,
   "id": "d3010d68-7655-4b3c-8f44-292503f782e3",
   "metadata": {},
   "outputs": [
    {
     "data": {
      "text/plain": [
       "Text(0.5, 1.0, 'Comparison of Life Expectancy, Fertility, and Population Averages per Continent')"
      ]
     },
     "execution_count": 62,
     "metadata": {},
     "output_type": "execute_result"
    },
    {
     "data": {
      "image/png": "[encoded data removed]",
      "text/plain": [
       "<Figure size 1000x600 with 1 Axes>"
      ]
     },
     "metadata": {},
     "output_type": "display_data"
    }
   ],
   "source": [
    "# 10. Plot a bar plot comparison of life_expectancy, fertility, population average per continent\n",
    "\n",
    "continent_stats = df.groupby('continent').agg({'life expectancy': 'mean', 'fertility': 'mean', 'total_population': 'mean'})\n",
    "\n",
    "# Plot a bar plot\n",
    "ax = continent_stats.plot(kind='bar', log=True, figsize=(10, 6), colormap='viridis')\n",
    "\n",
    "# Set plot labels and title\n",
    "ax.set_xlabel('Continent')\n",
    "ax.set_ylabel('Average (log scale)')\n",
    "ax.set_title('Comparison of Life Expectancy, Fertility, and Population Averages per Continent')\n"
   ]
  },
  {
   "cell_type": "code",
   "execution_count": 63,
   "id": "b36f0aa2-fd72-4fde-9382-cfa9479ffda2",
   "metadata": {},
   "outputs": [],
   "source": [
    "#Create subset of data for one year\n",
    "df_subset = df.loc[df['year'] == 2000]\n"
   ]
  },
  {
   "cell_type": "code",
   "execution_count": 64,
   "id": "322364aa-e9ba-4e21-ae1d-37188d737434",
   "metadata": {},
   "outputs": [
    {
     "data": {
      "text/plain": [
       "<Axes: xlabel='fertility', ylabel='life expectancy'>"
      ]
     },
     "execution_count": 64,
     "metadata": {},
     "output_type": "execute_result"
    },
    {
     "data": {
      "image/png": "[encoded data removed]",
      "text/plain": [
       "<Figure size 640x480 with 1 Axes>"
      ]
     },
     "metadata": {},
     "output_type": "display_data"
    }
   ],
   "source": [
    "#Plot the life expectancy vs fertility rate\n",
    "import seaborn as sns\n",
    "sns.scatterplot(x = 'fertility', y='life expectancy', data = df_subset)  "
   ]
  },
  {
   "cell_type": "code",
   "execution_count": 65,
   "id": "7b2f33cd-fac4-4297-990d-70f47fe1d0f6",
   "metadata": {},
   "outputs": [
    {
     "data": {
      "text/plain": [
       "Text(0.5, 0, 'Life Expectancy')"
      ]
     },
     "execution_count": 65,
     "metadata": {},
     "output_type": "execute_result"
    },
    {
     "data": {
      "image/png": "[encoded data removed]",
      "text/plain": [
       "<Figure size 500x600 with 1 Axes>"
      ]
     },
     "metadata": {},
     "output_type": "display_data"
    }
   ],
   "source": [
    "plt.figure(figsize=(5,6))\n",
    "sns.scatterplot(x = 'fertility', y='life expectancy', data = df_subset)   \n",
    "plt.title('Life Expectancy vs Fertility Rate')\n",
    "plt.ylabel('Fertility rate')\n",
    "plt.xlabel('Life Expectancy')"
   ]
  },
  {
   "cell_type": "code",
   "execution_count": 66,
   "id": "6cfd1dc0-235a-4a35-aafe-af6f63f620db",
   "metadata": {},
   "outputs": [
    {
     "name": "stderr",
     "output_type": "stream",
     "text": [
      "C:\\Users\\MarinaBishay\\miniconda3\\Lib\\site-packages\\matplotlib\\text.py:1461: FutureWarning: Calling float on a single element Series is deprecated and will raise a TypeError in the future. Use float(ser.iloc[0]) instead\n",
      "  x = float(self.convert_xunits(x))\n",
      "C:\\Users\\MarinaBishay\\miniconda3\\Lib\\site-packages\\matplotlib\\text.py:1463: FutureWarning: Calling float on a single element Series is deprecated and will raise a TypeError in the future. Use float(ser.iloc[0]) instead\n",
      "  y = float(self.convert_yunits(y))\n",
      "C:\\Users\\MarinaBishay\\miniconda3\\Lib\\site-packages\\matplotlib\\text.py:753: FutureWarning: Calling float on a single element Series is deprecated and will raise a TypeError in the future. Use float(ser.iloc[0]) instead\n",
      "  posx = float(self.convert_xunits(self._x))\n",
      "C:\\Users\\MarinaBishay\\miniconda3\\Lib\\site-packages\\matplotlib\\text.py:754: FutureWarning: Calling float on a single element Series is deprecated and will raise a TypeError in the future. Use float(ser.iloc[0]) instead\n",
      "  posy = float(self.convert_yunits(self._y))\n",
      "C:\\Users\\MarinaBishay\\miniconda3\\Lib\\site-packages\\matplotlib\\text.py:894: FutureWarning: Calling float on a single element Series is deprecated and will raise a TypeError in the future. Use float(ser.iloc[0]) instead\n",
      "  x = float(self.convert_xunits(self._x))\n",
      "C:\\Users\\MarinaBishay\\miniconda3\\Lib\\site-packages\\matplotlib\\text.py:895: FutureWarning: Calling float on a single element Series is deprecated and will raise a TypeError in the future. Use float(ser.iloc[0]) instead\n",
      "  y = float(self.convert_yunits(self._y))\n"
     ]
    },
    {
     "data": {
      "image/png": "[encoded data removed]",
      "text/plain": [
       "<Figure size 1200x800 with 1 Axes>"
      ]
     },
     "metadata": {},
     "output_type": "display_data"
    }
   ],
   "source": [
    "plt.figure(figsize=(12,8))\n",
    "size= df_subset['total_population']*1e-6\n",
    "\n",
    "\n",
    "sns.scatterplot(x = 'life expectancy', y='fertility', hue ='continent', size = size, sizes= (5,1000), data =df_subset, alpha =0.5)\n",
    "plt.ylabel('Fertility rate')\n",
    "plt.xlabel('Life Expectancy')\n",
    "plt.xticks(rotation = 45)\n",
    "plt.axis([0, 85, 0, 9.5])\n",
    "sns.set_theme(style ='dark')\n",
    "plt.grid(True, alpha =0.5)\n",
    "\n",
    "plt.annotate('Peru',(df_subset[df_subset['country']=='Peru']['life expectancy'],\n",
    "            df_subset[df_subset['country']=='Peru']['fertility']));\n",
    "plt.annotate('Egypt',(df_subset[df_subset['country']=='Egypt']['life expectancy'],\n",
    "            df_subset[df_subset['country']=='Egypt']['fertility']));\n",
    "plt.annotate('Germany',(df_subset[df_subset['country']=='Germany']['life expectancy'],\n",
    "            df_subset[df_subset['country']=='Germany']['fertility']));\n",
    "\n",
    "plt.savefig('../plots/life_expectancy_vs_fertility.png')"
   ]
  },
  {
   "cell_type": "code",
   "execution_count": 67,
   "id": "082004d6-f4c8-49ac-a384-742accb9fd10",
   "metadata": {},
   "outputs": [
    {
     "name": "stderr",
     "output_type": "stream",
     "text": [
      "C:\\Users\\MarinaBishay\\miniconda3\\Lib\\site-packages\\matplotlib\\text.py:1461: FutureWarning: Calling float on a single element Series is deprecated and will raise a TypeError in the future. Use float(ser.iloc[0]) instead\n",
      "  x = float(self.convert_xunits(x))\n",
      "C:\\Users\\MarinaBishay\\miniconda3\\Lib\\site-packages\\matplotlib\\text.py:1463: FutureWarning: Calling float on a single element Series is deprecated and will raise a TypeError in the future. Use float(ser.iloc[0]) instead\n",
      "  y = float(self.convert_yunits(y))\n",
      "C:\\Users\\MarinaBishay\\miniconda3\\Lib\\site-packages\\matplotlib\\text.py:753: FutureWarning: Calling float on a single element Series is deprecated and will raise a TypeError in the future. Use float(ser.iloc[0]) instead\n",
      "  posx = float(self.convert_xunits(self._x))\n",
      "C:\\Users\\MarinaBishay\\miniconda3\\Lib\\site-packages\\matplotlib\\text.py:754: FutureWarning: Calling float on a single element Series is deprecated and will raise a TypeError in the future. Use float(ser.iloc[0]) instead\n",
      "  posy = float(self.convert_yunits(self._y))\n",
      "C:\\Users\\MarinaBishay\\miniconda3\\Lib\\site-packages\\matplotlib\\text.py:1461: FutureWarning: Calling float on a single element Series is deprecated and will raise a TypeError in the future. Use float(ser.iloc[0]) instead\n",
      "  x = float(self.convert_xunits(x))\n",
      "C:\\Users\\MarinaBishay\\miniconda3\\Lib\\site-packages\\matplotlib\\text.py:1463: FutureWarning: Calling float on a single element Series is deprecated and will raise a TypeError in the future. Use float(ser.iloc[0]) instead\n",
      "  y = float(self.convert_yunits(y))\n",
      "C:\\Users\\MarinaBishay\\miniconda3\\Lib\\site-packages\\matplotlib\\text.py:753: FutureWarning: Calling float on a single element Series is deprecated and will raise a TypeError in the future. Use float(ser.iloc[0]) instead\n",
      "  posx = float(self.convert_xunits(self._x))\n",
      "C:\\Users\\MarinaBishay\\miniconda3\\Lib\\site-packages\\matplotlib\\text.py:754: FutureWarning: Calling float on a single element Series is deprecated and will raise a TypeError in the future. Use float(ser.iloc[0]) instead\n",
      "  posy = float(self.convert_yunits(self._y))\n",
      "C:\\Users\\MarinaBishay\\miniconda3\\Lib\\site-packages\\matplotlib\\text.py:1461: FutureWarning: Calling float on a single element Series is deprecated and will raise a TypeError in the future. Use float(ser.iloc[0]) instead\n",
      "  x = float(self.convert_xunits(x))\n",
      "C:\\Users\\MarinaBishay\\miniconda3\\Lib\\site-packages\\matplotlib\\text.py:1463: FutureWarning: Calling float on a single element Series is deprecated and will raise a TypeError in the future. Use float(ser.iloc[0]) instead\n",
      "  y = float(self.convert_yunits(y))\n",
      "C:\\Users\\MarinaBishay\\miniconda3\\Lib\\site-packages\\matplotlib\\text.py:753: FutureWarning: Calling float on a single element Series is deprecated and will raise a TypeError in the future. Use float(ser.iloc[0]) instead\n",
      "  posx = float(self.convert_xunits(self._x))\n",
      "C:\\Users\\MarinaBishay\\miniconda3\\Lib\\site-packages\\matplotlib\\text.py:754: FutureWarning: Calling float on a single element Series is deprecated and will raise a TypeError in the future. Use float(ser.iloc[0]) instead\n",
      "  posy = float(self.convert_yunits(self._y))\n",
      "C:\\Users\\MarinaBishay\\miniconda3\\Lib\\site-packages\\matplotlib\\text.py:1461: FutureWarning: Calling float on a single element Series is deprecated and will raise a TypeError in the future. Use float(ser.iloc[0]) instead\n",
      "  x = float(self.convert_xunits(x))\n",
      "C:\\Users\\MarinaBishay\\miniconda3\\Lib\\site-packages\\matplotlib\\text.py:1463: FutureWarning: Calling float on a single element Series is deprecated and will raise a TypeError in the future. Use float(ser.iloc[0]) instead\n",
      "  y = float(self.convert_yunits(y))\n",
      "C:\\Users\\MarinaBishay\\miniconda3\\Lib\\site-packages\\matplotlib\\text.py:753: FutureWarning: Calling float on a single element Series is deprecated and will raise a TypeError in the future. Use float(ser.iloc[0]) instead\n",
      "  posx = float(self.convert_xunits(self._x))\n",
      "C:\\Users\\MarinaBishay\\miniconda3\\Lib\\site-packages\\matplotlib\\text.py:754: FutureWarning: Calling float on a single element Series is deprecated and will raise a TypeError in the future. Use float(ser.iloc[0]) instead\n",
      "  posy = float(self.convert_yunits(self._y))\n",
      "C:\\Users\\MarinaBishay\\miniconda3\\Lib\\site-packages\\matplotlib\\text.py:1461: FutureWarning: Calling float on a single element Series is deprecated and will raise a TypeError in the future. Use float(ser.iloc[0]) instead\n",
      "  x = float(self.convert_xunits(x))\n",
      "C:\\Users\\MarinaBishay\\miniconda3\\Lib\\site-packages\\matplotlib\\text.py:1463: FutureWarning: Calling float on a single element Series is deprecated and will raise a TypeError in the future. Use float(ser.iloc[0]) instead\n",
      "  y = float(self.convert_yunits(y))\n",
      "C:\\Users\\MarinaBishay\\miniconda3\\Lib\\site-packages\\matplotlib\\text.py:753: FutureWarning: Calling float on a single element Series is deprecated and will raise a TypeError in the future. Use float(ser.iloc[0]) instead\n",
      "  posx = float(self.convert_xunits(self._x))\n",
      "C:\\Users\\MarinaBishay\\miniconda3\\Lib\\site-packages\\matplotlib\\text.py:754: FutureWarning: Calling float on a single element Series is deprecated and will raise a TypeError in the future. Use float(ser.iloc[0]) instead\n",
      "  posy = float(self.convert_yunits(self._y))\n",
      "C:\\Users\\MarinaBishay\\miniconda3\\Lib\\site-packages\\matplotlib\\text.py:1461: FutureWarning: Calling float on a single element Series is deprecated and will raise a TypeError in the future. Use float(ser.iloc[0]) instead\n",
      "  x = float(self.convert_xunits(x))\n",
      "C:\\Users\\MarinaBishay\\miniconda3\\Lib\\site-packages\\matplotlib\\text.py:1463: FutureWarning: Calling float on a single element Series is deprecated and will raise a TypeError in the future. Use float(ser.iloc[0]) instead\n",
      "  y = float(self.convert_yunits(y))\n",
      "C:\\Users\\MarinaBishay\\miniconda3\\Lib\\site-packages\\matplotlib\\text.py:753: FutureWarning: Calling float on a single element Series is deprecated and will raise a TypeError in the future. Use float(ser.iloc[0]) instead\n",
      "  posx = float(self.convert_xunits(self._x))\n",
      "C:\\Users\\MarinaBishay\\miniconda3\\Lib\\site-packages\\matplotlib\\text.py:754: FutureWarning: Calling float on a single element Series is deprecated and will raise a TypeError in the future. Use float(ser.iloc[0]) instead\n",
      "  posy = float(self.convert_yunits(self._y))\n",
      "C:\\Users\\MarinaBishay\\miniconda3\\Lib\\site-packages\\matplotlib\\text.py:1461: FutureWarning: Calling float on a single element Series is deprecated and will raise a TypeError in the future. Use float(ser.iloc[0]) instead\n",
      "  x = float(self.convert_xunits(x))\n",
      "C:\\Users\\MarinaBishay\\miniconda3\\Lib\\site-packages\\matplotlib\\text.py:1463: FutureWarning: Calling float on a single element Series is deprecated and will raise a TypeError in the future. Use float(ser.iloc[0]) instead\n",
      "  y = float(self.convert_yunits(y))\n",
      "C:\\Users\\MarinaBishay\\miniconda3\\Lib\\site-packages\\matplotlib\\text.py:753: FutureWarning: Calling float on a single element Series is deprecated and will raise a TypeError in the future. Use float(ser.iloc[0]) instead\n",
      "  posx = float(self.convert_xunits(self._x))\n",
      "C:\\Users\\MarinaBishay\\miniconda3\\Lib\\site-packages\\matplotlib\\text.py:754: FutureWarning: Calling float on a single element Series is deprecated and will raise a TypeError in the future. Use float(ser.iloc[0]) instead\n",
      "  posy = float(self.convert_yunits(self._y))\n",
      "C:\\Users\\MarinaBishay\\miniconda3\\Lib\\site-packages\\matplotlib\\text.py:1461: FutureWarning: Calling float on a single element Series is deprecated and will raise a TypeError in the future. Use float(ser.iloc[0]) instead\n",
      "  x = float(self.convert_xunits(x))\n",
      "C:\\Users\\MarinaBishay\\miniconda3\\Lib\\site-packages\\matplotlib\\text.py:1463: FutureWarning: Calling float on a single element Series is deprecated and will raise a TypeError in the future. Use float(ser.iloc[0]) instead\n",
      "  y = float(self.convert_yunits(y))\n",
      "C:\\Users\\MarinaBishay\\miniconda3\\Lib\\site-packages\\matplotlib\\text.py:753: FutureWarning: Calling float on a single element Series is deprecated and will raise a TypeError in the future. Use float(ser.iloc[0]) instead\n",
      "  posx = float(self.convert_xunits(self._x))\n",
      "C:\\Users\\MarinaBishay\\miniconda3\\Lib\\site-packages\\matplotlib\\text.py:754: FutureWarning: Calling float on a single element Series is deprecated and will raise a TypeError in the future. Use float(ser.iloc[0]) instead\n",
      "  posy = float(self.convert_yunits(self._y))\n",
      "C:\\Users\\MarinaBishay\\miniconda3\\Lib\\site-packages\\matplotlib\\text.py:1461: FutureWarning: Calling float on a single element Series is deprecated and will raise a TypeError in the future. Use float(ser.iloc[0]) instead\n",
      "  x = float(self.convert_xunits(x))\n",
      "C:\\Users\\MarinaBishay\\miniconda3\\Lib\\site-packages\\matplotlib\\text.py:1463: FutureWarning: Calling float on a single element Series is deprecated and will raise a TypeError in the future. Use float(ser.iloc[0]) instead\n",
      "  y = float(self.convert_yunits(y))\n",
      "C:\\Users\\MarinaBishay\\miniconda3\\Lib\\site-packages\\matplotlib\\text.py:753: FutureWarning: Calling float on a single element Series is deprecated and will raise a TypeError in the future. Use float(ser.iloc[0]) instead\n",
      "  posx = float(self.convert_xunits(self._x))\n",
      "C:\\Users\\MarinaBishay\\miniconda3\\Lib\\site-packages\\matplotlib\\text.py:754: FutureWarning: Calling float on a single element Series is deprecated and will raise a TypeError in the future. Use float(ser.iloc[0]) instead\n",
      "  posy = float(self.convert_yunits(self._y))\n",
      "C:\\Users\\MarinaBishay\\miniconda3\\Lib\\site-packages\\matplotlib\\text.py:1461: FutureWarning: Calling float on a single element Series is deprecated and will raise a TypeError in the future. Use float(ser.iloc[0]) instead\n",
      "  x = float(self.convert_xunits(x))\n",
      "C:\\Users\\MarinaBishay\\miniconda3\\Lib\\site-packages\\matplotlib\\text.py:1463: FutureWarning: Calling float on a single element Series is deprecated and will raise a TypeError in the future. Use float(ser.iloc[0]) instead\n",
      "  y = float(self.convert_yunits(y))\n",
      "C:\\Users\\MarinaBishay\\miniconda3\\Lib\\site-packages\\matplotlib\\text.py:753: FutureWarning: Calling float on a single element Series is deprecated and will raise a TypeError in the future. Use float(ser.iloc[0]) instead\n",
      "  posx = float(self.convert_xunits(self._x))\n",
      "C:\\Users\\MarinaBishay\\miniconda3\\Lib\\site-packages\\matplotlib\\text.py:754: FutureWarning: Calling float on a single element Series is deprecated and will raise a TypeError in the future. Use float(ser.iloc[0]) instead\n",
      "  posy = float(self.convert_yunits(self._y))\n",
      "C:\\Users\\MarinaBishay\\miniconda3\\Lib\\site-packages\\matplotlib\\text.py:1461: FutureWarning: Calling float on a single element Series is deprecated and will raise a TypeError in the future. Use float(ser.iloc[0]) instead\n",
      "  x = float(self.convert_xunits(x))\n",
      "C:\\Users\\MarinaBishay\\miniconda3\\Lib\\site-packages\\matplotlib\\text.py:1463: FutureWarning: Calling float on a single element Series is deprecated and will raise a TypeError in the future. Use float(ser.iloc[0]) instead\n",
      "  y = float(self.convert_yunits(y))\n",
      "C:\\Users\\MarinaBishay\\miniconda3\\Lib\\site-packages\\matplotlib\\text.py:753: FutureWarning: Calling float on a single element Series is deprecated and will raise a TypeError in the future. Use float(ser.iloc[0]) instead\n",
      "  posx = float(self.convert_xunits(self._x))\n",
      "C:\\Users\\MarinaBishay\\miniconda3\\Lib\\site-packages\\matplotlib\\text.py:754: FutureWarning: Calling float on a single element Series is deprecated and will raise a TypeError in the future. Use float(ser.iloc[0]) instead\n",
      "  posy = float(self.convert_yunits(self._y))\n",
      "C:\\Users\\MarinaBishay\\miniconda3\\Lib\\site-packages\\matplotlib\\text.py:1461: FutureWarning: Calling float on a single element Series is deprecated and will raise a TypeError in the future. Use float(ser.iloc[0]) instead\n",
      "  x = float(self.convert_xunits(x))\n",
      "C:\\Users\\MarinaBishay\\miniconda3\\Lib\\site-packages\\matplotlib\\text.py:1463: FutureWarning: Calling float on a single element Series is deprecated and will raise a TypeError in the future. Use float(ser.iloc[0]) instead\n",
      "  y = float(self.convert_yunits(y))\n",
      "C:\\Users\\MarinaBishay\\miniconda3\\Lib\\site-packages\\matplotlib\\text.py:753: FutureWarning: Calling float on a single element Series is deprecated and will raise a TypeError in the future. Use float(ser.iloc[0]) instead\n",
      "  posx = float(self.convert_xunits(self._x))\n",
      "C:\\Users\\MarinaBishay\\miniconda3\\Lib\\site-packages\\matplotlib\\text.py:754: FutureWarning: Calling float on a single element Series is deprecated and will raise a TypeError in the future. Use float(ser.iloc[0]) instead\n",
      "  posy = float(self.convert_yunits(self._y))\n",
      "C:\\Users\\MarinaBishay\\miniconda3\\Lib\\site-packages\\matplotlib\\text.py:1461: FutureWarning: Calling float on a single element Series is deprecated and will raise a TypeError in the future. Use float(ser.iloc[0]) instead\n",
      "  x = float(self.convert_xunits(x))\n",
      "C:\\Users\\MarinaBishay\\miniconda3\\Lib\\site-packages\\matplotlib\\text.py:1463: FutureWarning: Calling float on a single element Series is deprecated and will raise a TypeError in the future. Use float(ser.iloc[0]) instead\n",
      "  y = float(self.convert_yunits(y))\n",
      "C:\\Users\\MarinaBishay\\miniconda3\\Lib\\site-packages\\matplotlib\\text.py:753: FutureWarning: Calling float on a single element Series is deprecated and will raise a TypeError in the future. Use float(ser.iloc[0]) instead\n",
      "  posx = float(self.convert_xunits(self._x))\n",
      "C:\\Users\\MarinaBishay\\miniconda3\\Lib\\site-packages\\matplotlib\\text.py:754: FutureWarning: Calling float on a single element Series is deprecated and will raise a TypeError in the future. Use float(ser.iloc[0]) instead\n",
      "  posy = float(self.convert_yunits(self._y))\n",
      "C:\\Users\\MarinaBishay\\miniconda3\\Lib\\site-packages\\matplotlib\\text.py:1461: FutureWarning: Calling float on a single element Series is deprecated and will raise a TypeError in the future. Use float(ser.iloc[0]) instead\n",
      "  x = float(self.convert_xunits(x))\n",
      "C:\\Users\\MarinaBishay\\miniconda3\\Lib\\site-packages\\matplotlib\\text.py:1463: FutureWarning: Calling float on a single element Series is deprecated and will raise a TypeError in the future. Use float(ser.iloc[0]) instead\n",
      "  y = float(self.convert_yunits(y))\n",
      "C:\\Users\\MarinaBishay\\miniconda3\\Lib\\site-packages\\matplotlib\\text.py:753: FutureWarning: Calling float on a single element Series is deprecated and will raise a TypeError in the future. Use float(ser.iloc[0]) instead\n",
      "  posx = float(self.convert_xunits(self._x))\n",
      "C:\\Users\\MarinaBishay\\miniconda3\\Lib\\site-packages\\matplotlib\\text.py:754: FutureWarning: Calling float on a single element Series is deprecated and will raise a TypeError in the future. Use float(ser.iloc[0]) instead\n",
      "  posy = float(self.convert_yunits(self._y))\n",
      "C:\\Users\\MarinaBishay\\miniconda3\\Lib\\site-packages\\matplotlib\\text.py:1461: FutureWarning: Calling float on a single element Series is deprecated and will raise a TypeError in the future. Use float(ser.iloc[0]) instead\n",
      "  x = float(self.convert_xunits(x))\n",
      "C:\\Users\\MarinaBishay\\miniconda3\\Lib\\site-packages\\matplotlib\\text.py:1463: FutureWarning: Calling float on a single element Series is deprecated and will raise a TypeError in the future. Use float(ser.iloc[0]) instead\n",
      "  y = float(self.convert_yunits(y))\n",
      "C:\\Users\\MarinaBishay\\miniconda3\\Lib\\site-packages\\matplotlib\\text.py:753: FutureWarning: Calling float on a single element Series is deprecated and will raise a TypeError in the future. Use float(ser.iloc[0]) instead\n",
      "  posx = float(self.convert_xunits(self._x))\n",
      "C:\\Users\\MarinaBishay\\miniconda3\\Lib\\site-packages\\matplotlib\\text.py:754: FutureWarning: Calling float on a single element Series is deprecated and will raise a TypeError in the future. Use float(ser.iloc[0]) instead\n",
      "  posy = float(self.convert_yunits(self._y))\n",
      "C:\\Users\\MarinaBishay\\miniconda3\\Lib\\site-packages\\matplotlib\\text.py:1461: FutureWarning: Calling float on a single element Series is deprecated and will raise a TypeError in the future. Use float(ser.iloc[0]) instead\n",
      "  x = float(self.convert_xunits(x))\n",
      "C:\\Users\\MarinaBishay\\miniconda3\\Lib\\site-packages\\matplotlib\\text.py:1463: FutureWarning: Calling float on a single element Series is deprecated and will raise a TypeError in the future. Use float(ser.iloc[0]) instead\n",
      "  y = float(self.convert_yunits(y))\n",
      "C:\\Users\\MarinaBishay\\miniconda3\\Lib\\site-packages\\matplotlib\\text.py:753: FutureWarning: Calling float on a single element Series is deprecated and will raise a TypeError in the future. Use float(ser.iloc[0]) instead\n",
      "  posx = float(self.convert_xunits(self._x))\n",
      "C:\\Users\\MarinaBishay\\miniconda3\\Lib\\site-packages\\matplotlib\\text.py:754: FutureWarning: Calling float on a single element Series is deprecated and will raise a TypeError in the future. Use float(ser.iloc[0]) instead\n",
      "  posy = float(self.convert_yunits(self._y))\n",
      "C:\\Users\\MarinaBishay\\miniconda3\\Lib\\site-packages\\matplotlib\\text.py:1461: FutureWarning: Calling float on a single element Series is deprecated and will raise a TypeError in the future. Use float(ser.iloc[0]) instead\n",
      "  x = float(self.convert_xunits(x))\n",
      "C:\\Users\\MarinaBishay\\miniconda3\\Lib\\site-packages\\matplotlib\\text.py:1463: FutureWarning: Calling float on a single element Series is deprecated and will raise a TypeError in the future. Use float(ser.iloc[0]) instead\n",
      "  y = float(self.convert_yunits(y))\n",
      "C:\\Users\\MarinaBishay\\miniconda3\\Lib\\site-packages\\matplotlib\\text.py:753: FutureWarning: Calling float on a single element Series is deprecated and will raise a TypeError in the future. Use float(ser.iloc[0]) instead\n",
      "  posx = float(self.convert_xunits(self._x))\n",
      "C:\\Users\\MarinaBishay\\miniconda3\\Lib\\site-packages\\matplotlib\\text.py:754: FutureWarning: Calling float on a single element Series is deprecated and will raise a TypeError in the future. Use float(ser.iloc[0]) instead\n",
      "  posy = float(self.convert_yunits(self._y))\n",
      "C:\\Users\\MarinaBishay\\miniconda3\\Lib\\site-packages\\matplotlib\\text.py:1461: FutureWarning: Calling float on a single element Series is deprecated and will raise a TypeError in the future. Use float(ser.iloc[0]) instead\n",
      "  x = float(self.convert_xunits(x))\n",
      "C:\\Users\\MarinaBishay\\miniconda3\\Lib\\site-packages\\matplotlib\\text.py:1463: FutureWarning: Calling float on a single element Series is deprecated and will raise a TypeError in the future. Use float(ser.iloc[0]) instead\n",
      "  y = float(self.convert_yunits(y))\n",
      "C:\\Users\\MarinaBishay\\miniconda3\\Lib\\site-packages\\matplotlib\\text.py:753: FutureWarning: Calling float on a single element Series is deprecated and will raise a TypeError in the future. Use float(ser.iloc[0]) instead\n",
      "  posx = float(self.convert_xunits(self._x))\n",
      "C:\\Users\\MarinaBishay\\miniconda3\\Lib\\site-packages\\matplotlib\\text.py:754: FutureWarning: Calling float on a single element Series is deprecated and will raise a TypeError in the future. Use float(ser.iloc[0]) instead\n",
      "  posy = float(self.convert_yunits(self._y))\n",
      "C:\\Users\\MarinaBishay\\miniconda3\\Lib\\site-packages\\matplotlib\\text.py:1461: FutureWarning: Calling float on a single element Series is deprecated and will raise a TypeError in the future. Use float(ser.iloc[0]) instead\n",
      "  x = float(self.convert_xunits(x))\n",
      "C:\\Users\\MarinaBishay\\miniconda3\\Lib\\site-packages\\matplotlib\\text.py:1463: FutureWarning: Calling float on a single element Series is deprecated and will raise a TypeError in the future. Use float(ser.iloc[0]) instead\n",
      "  y = float(self.convert_yunits(y))\n",
      "C:\\Users\\MarinaBishay\\miniconda3\\Lib\\site-packages\\matplotlib\\text.py:753: FutureWarning: Calling float on a single element Series is deprecated and will raise a TypeError in the future. Use float(ser.iloc[0]) instead\n",
      "  posx = float(self.convert_xunits(self._x))\n",
      "C:\\Users\\MarinaBishay\\miniconda3\\Lib\\site-packages\\matplotlib\\text.py:754: FutureWarning: Calling float on a single element Series is deprecated and will raise a TypeError in the future. Use float(ser.iloc[0]) instead\n",
      "  posy = float(self.convert_yunits(self._y))\n",
      "C:\\Users\\MarinaBishay\\miniconda3\\Lib\\site-packages\\matplotlib\\text.py:1461: FutureWarning: Calling float on a single element Series is deprecated and will raise a TypeError in the future. Use float(ser.iloc[0]) instead\n",
      "  x = float(self.convert_xunits(x))\n",
      "C:\\Users\\MarinaBishay\\miniconda3\\Lib\\site-packages\\matplotlib\\text.py:1463: FutureWarning: Calling float on a single element Series is deprecated and will raise a TypeError in the future. Use float(ser.iloc[0]) instead\n",
      "  y = float(self.convert_yunits(y))\n",
      "C:\\Users\\MarinaBishay\\miniconda3\\Lib\\site-packages\\matplotlib\\text.py:753: FutureWarning: Calling float on a single element Series is deprecated and will raise a TypeError in the future. Use float(ser.iloc[0]) instead\n",
      "  posx = float(self.convert_xunits(self._x))\n",
      "C:\\Users\\MarinaBishay\\miniconda3\\Lib\\site-packages\\matplotlib\\text.py:754: FutureWarning: Calling float on a single element Series is deprecated and will raise a TypeError in the future. Use float(ser.iloc[0]) instead\n",
      "  posy = float(self.convert_yunits(self._y))\n",
      "C:\\Users\\MarinaBishay\\miniconda3\\Lib\\site-packages\\matplotlib\\text.py:1461: FutureWarning: Calling float on a single element Series is deprecated and will raise a TypeError in the future. Use float(ser.iloc[0]) instead\n",
      "  x = float(self.convert_xunits(x))\n",
      "C:\\Users\\MarinaBishay\\miniconda3\\Lib\\site-packages\\matplotlib\\text.py:1463: FutureWarning: Calling float on a single element Series is deprecated and will raise a TypeError in the future. Use float(ser.iloc[0]) instead\n",
      "  y = float(self.convert_yunits(y))\n",
      "C:\\Users\\MarinaBishay\\miniconda3\\Lib\\site-packages\\matplotlib\\text.py:753: FutureWarning: Calling float on a single element Series is deprecated and will raise a TypeError in the future. Use float(ser.iloc[0]) instead\n",
      "  posx = float(self.convert_xunits(self._x))\n",
      "C:\\Users\\MarinaBishay\\miniconda3\\Lib\\site-packages\\matplotlib\\text.py:754: FutureWarning: Calling float on a single element Series is deprecated and will raise a TypeError in the future. Use float(ser.iloc[0]) instead\n",
      "  posy = float(self.convert_yunits(self._y))\n",
      "C:\\Users\\MarinaBishay\\miniconda3\\Lib\\site-packages\\matplotlib\\text.py:1461: FutureWarning: Calling float on a single element Series is deprecated and will raise a TypeError in the future. Use float(ser.iloc[0]) instead\n",
      "  x = float(self.convert_xunits(x))\n",
      "C:\\Users\\MarinaBishay\\miniconda3\\Lib\\site-packages\\matplotlib\\text.py:1463: FutureWarning: Calling float on a single element Series is deprecated and will raise a TypeError in the future. Use float(ser.iloc[0]) instead\n",
      "  y = float(self.convert_yunits(y))\n",
      "C:\\Users\\MarinaBishay\\miniconda3\\Lib\\site-packages\\matplotlib\\text.py:753: FutureWarning: Calling float on a single element Series is deprecated and will raise a TypeError in the future. Use float(ser.iloc[0]) instead\n",
      "  posx = float(self.convert_xunits(self._x))\n",
      "C:\\Users\\MarinaBishay\\miniconda3\\Lib\\site-packages\\matplotlib\\text.py:754: FutureWarning: Calling float on a single element Series is deprecated and will raise a TypeError in the future. Use float(ser.iloc[0]) instead\n",
      "  posy = float(self.convert_yunits(self._y))\n",
      "C:\\Users\\MarinaBishay\\miniconda3\\Lib\\site-packages\\matplotlib\\text.py:1461: FutureWarning: Calling float on a single element Series is deprecated and will raise a TypeError in the future. Use float(ser.iloc[0]) instead\n",
      "  x = float(self.convert_xunits(x))\n",
      "C:\\Users\\MarinaBishay\\miniconda3\\Lib\\site-packages\\matplotlib\\text.py:1463: FutureWarning: Calling float on a single element Series is deprecated and will raise a TypeError in the future. Use float(ser.iloc[0]) instead\n",
      "  y = float(self.convert_yunits(y))\n",
      "C:\\Users\\MarinaBishay\\miniconda3\\Lib\\site-packages\\matplotlib\\text.py:753: FutureWarning: Calling float on a single element Series is deprecated and will raise a TypeError in the future. Use float(ser.iloc[0]) instead\n",
      "  posx = float(self.convert_xunits(self._x))\n",
      "C:\\Users\\MarinaBishay\\miniconda3\\Lib\\site-packages\\matplotlib\\text.py:754: FutureWarning: Calling float on a single element Series is deprecated and will raise a TypeError in the future. Use float(ser.iloc[0]) instead\n",
      "  posy = float(self.convert_yunits(self._y))\n",
      "C:\\Users\\MarinaBishay\\miniconda3\\Lib\\site-packages\\matplotlib\\text.py:1461: FutureWarning: Calling float on a single element Series is deprecated and will raise a TypeError in the future. Use float(ser.iloc[0]) instead\n",
      "  x = float(self.convert_xunits(x))\n",
      "C:\\Users\\MarinaBishay\\miniconda3\\Lib\\site-packages\\matplotlib\\text.py:1463: FutureWarning: Calling float on a single element Series is deprecated and will raise a TypeError in the future. Use float(ser.iloc[0]) instead\n",
      "  y = float(self.convert_yunits(y))\n",
      "C:\\Users\\MarinaBishay\\miniconda3\\Lib\\site-packages\\matplotlib\\text.py:753: FutureWarning: Calling float on a single element Series is deprecated and will raise a TypeError in the future. Use float(ser.iloc[0]) instead\n",
      "  posx = float(self.convert_xunits(self._x))\n",
      "C:\\Users\\MarinaBishay\\miniconda3\\Lib\\site-packages\\matplotlib\\text.py:754: FutureWarning: Calling float on a single element Series is deprecated and will raise a TypeError in the future. Use float(ser.iloc[0]) instead\n",
      "  posy = float(self.convert_yunits(self._y))\n",
      "C:\\Users\\MarinaBishay\\miniconda3\\Lib\\site-packages\\matplotlib\\text.py:1461: FutureWarning: Calling float on a single element Series is deprecated and will raise a TypeError in the future. Use float(ser.iloc[0]) instead\n",
      "  x = float(self.convert_xunits(x))\n",
      "C:\\Users\\MarinaBishay\\miniconda3\\Lib\\site-packages\\matplotlib\\text.py:1463: FutureWarning: Calling float on a single element Series is deprecated and will raise a TypeError in the future. Use float(ser.iloc[0]) instead\n",
      "  y = float(self.convert_yunits(y))\n",
      "C:\\Users\\MarinaBishay\\miniconda3\\Lib\\site-packages\\matplotlib\\text.py:753: FutureWarning: Calling float on a single element Series is deprecated and will raise a TypeError in the future. Use float(ser.iloc[0]) instead\n",
      "  posx = float(self.convert_xunits(self._x))\n",
      "C:\\Users\\MarinaBishay\\miniconda3\\Lib\\site-packages\\matplotlib\\text.py:754: FutureWarning: Calling float on a single element Series is deprecated and will raise a TypeError in the future. Use float(ser.iloc[0]) instead\n",
      "  posy = float(self.convert_yunits(self._y))\n",
      "C:\\Users\\MarinaBishay\\miniconda3\\Lib\\site-packages\\matplotlib\\text.py:1461: FutureWarning: Calling float on a single element Series is deprecated and will raise a TypeError in the future. Use float(ser.iloc[0]) instead\n",
      "  x = float(self.convert_xunits(x))\n",
      "C:\\Users\\MarinaBishay\\miniconda3\\Lib\\site-packages\\matplotlib\\text.py:1463: FutureWarning: Calling float on a single element Series is deprecated and will raise a TypeError in the future. Use float(ser.iloc[0]) instead\n",
      "  y = float(self.convert_yunits(y))\n",
      "C:\\Users\\MarinaBishay\\miniconda3\\Lib\\site-packages\\matplotlib\\text.py:753: FutureWarning: Calling float on a single element Series is deprecated and will raise a TypeError in the future. Use float(ser.iloc[0]) instead\n",
      "  posx = float(self.convert_xunits(self._x))\n",
      "C:\\Users\\MarinaBishay\\miniconda3\\Lib\\site-packages\\matplotlib\\text.py:754: FutureWarning: Calling float on a single element Series is deprecated and will raise a TypeError in the future. Use float(ser.iloc[0]) instead\n",
      "  posy = float(self.convert_yunits(self._y))\n",
      "C:\\Users\\MarinaBishay\\miniconda3\\Lib\\site-packages\\matplotlib\\text.py:1461: FutureWarning: Calling float on a single element Series is deprecated and will raise a TypeError in the future. Use float(ser.iloc[0]) instead\n",
      "  x = float(self.convert_xunits(x))\n",
      "C:\\Users\\MarinaBishay\\miniconda3\\Lib\\site-packages\\matplotlib\\text.py:1463: FutureWarning: Calling float on a single element Series is deprecated and will raise a TypeError in the future. Use float(ser.iloc[0]) instead\n",
      "  y = float(self.convert_yunits(y))\n",
      "C:\\Users\\MarinaBishay\\miniconda3\\Lib\\site-packages\\matplotlib\\text.py:753: FutureWarning: Calling float on a single element Series is deprecated and will raise a TypeError in the future. Use float(ser.iloc[0]) instead\n",
      "  posx = float(self.convert_xunits(self._x))\n",
      "C:\\Users\\MarinaBishay\\miniconda3\\Lib\\site-packages\\matplotlib\\text.py:754: FutureWarning: Calling float on a single element Series is deprecated and will raise a TypeError in the future. Use float(ser.iloc[0]) instead\n",
      "  posy = float(self.convert_yunits(self._y))\n",
      "C:\\Users\\MarinaBishay\\miniconda3\\Lib\\site-packages\\matplotlib\\text.py:1461: FutureWarning: Calling float on a single element Series is deprecated and will raise a TypeError in the future. Use float(ser.iloc[0]) instead\n",
      "  x = float(self.convert_xunits(x))\n",
      "C:\\Users\\MarinaBishay\\miniconda3\\Lib\\site-packages\\matplotlib\\text.py:1463: FutureWarning: Calling float on a single element Series is deprecated and will raise a TypeError in the future. Use float(ser.iloc[0]) instead\n",
      "  y = float(self.convert_yunits(y))\n",
      "C:\\Users\\MarinaBishay\\miniconda3\\Lib\\site-packages\\matplotlib\\text.py:753: FutureWarning: Calling float on a single element Series is deprecated and will raise a TypeError in the future. Use float(ser.iloc[0]) instead\n",
      "  posx = float(self.convert_xunits(self._x))\n",
      "C:\\Users\\MarinaBishay\\miniconda3\\Lib\\site-packages\\matplotlib\\text.py:754: FutureWarning: Calling float on a single element Series is deprecated and will raise a TypeError in the future. Use float(ser.iloc[0]) instead\n",
      "  posy = float(self.convert_yunits(self._y))\n",
      "C:\\Users\\MarinaBishay\\miniconda3\\Lib\\site-packages\\matplotlib\\text.py:1461: FutureWarning: Calling float on a single element Series is deprecated and will raise a TypeError in the future. Use float(ser.iloc[0]) instead\n",
      "  x = float(self.convert_xunits(x))\n",
      "C:\\Users\\MarinaBishay\\miniconda3\\Lib\\site-packages\\matplotlib\\text.py:1463: FutureWarning: Calling float on a single element Series is deprecated and will raise a TypeError in the future. Use float(ser.iloc[0]) instead\n",
      "  y = float(self.convert_yunits(y))\n",
      "C:\\Users\\MarinaBishay\\miniconda3\\Lib\\site-packages\\matplotlib\\text.py:753: FutureWarning: Calling float on a single element Series is deprecated and will raise a TypeError in the future. Use float(ser.iloc[0]) instead\n",
      "  posx = float(self.convert_xunits(self._x))\n",
      "C:\\Users\\MarinaBishay\\miniconda3\\Lib\\site-packages\\matplotlib\\text.py:754: FutureWarning: Calling float on a single element Series is deprecated and will raise a TypeError in the future. Use float(ser.iloc[0]) instead\n",
      "  posy = float(self.convert_yunits(self._y))\n",
      "C:\\Users\\MarinaBishay\\miniconda3\\Lib\\site-packages\\matplotlib\\text.py:1461: FutureWarning: Calling float on a single element Series is deprecated and will raise a TypeError in the future. Use float(ser.iloc[0]) instead\n",
      "  x = float(self.convert_xunits(x))\n",
      "C:\\Users\\MarinaBishay\\miniconda3\\Lib\\site-packages\\matplotlib\\text.py:1463: FutureWarning: Calling float on a single element Series is deprecated and will raise a TypeError in the future. Use float(ser.iloc[0]) instead\n",
      "  y = float(self.convert_yunits(y))\n",
      "C:\\Users\\MarinaBishay\\miniconda3\\Lib\\site-packages\\matplotlib\\text.py:753: FutureWarning: Calling float on a single element Series is deprecated and will raise a TypeError in the future. Use float(ser.iloc[0]) instead\n",
      "  posx = float(self.convert_xunits(self._x))\n",
      "C:\\Users\\MarinaBishay\\miniconda3\\Lib\\site-packages\\matplotlib\\text.py:754: FutureWarning: Calling float on a single element Series is deprecated and will raise a TypeError in the future. Use float(ser.iloc[0]) instead\n",
      "  posy = float(self.convert_yunits(self._y))\n",
      "C:\\Users\\MarinaBishay\\miniconda3\\Lib\\site-packages\\matplotlib\\text.py:1461: FutureWarning: Calling float on a single element Series is deprecated and will raise a TypeError in the future. Use float(ser.iloc[0]) instead\n",
      "  x = float(self.convert_xunits(x))\n",
      "C:\\Users\\MarinaBishay\\miniconda3\\Lib\\site-packages\\matplotlib\\text.py:1463: FutureWarning: Calling float on a single element Series is deprecated and will raise a TypeError in the future. Use float(ser.iloc[0]) instead\n",
      "  y = float(self.convert_yunits(y))\n",
      "C:\\Users\\MarinaBishay\\miniconda3\\Lib\\site-packages\\matplotlib\\text.py:753: FutureWarning: Calling float on a single element Series is deprecated and will raise a TypeError in the future. Use float(ser.iloc[0]) instead\n",
      "  posx = float(self.convert_xunits(self._x))\n",
      "C:\\Users\\MarinaBishay\\miniconda3\\Lib\\site-packages\\matplotlib\\text.py:754: FutureWarning: Calling float on a single element Series is deprecated and will raise a TypeError in the future. Use float(ser.iloc[0]) instead\n",
      "  posy = float(self.convert_yunits(self._y))\n",
      "C:\\Users\\MarinaBishay\\miniconda3\\Lib\\site-packages\\matplotlib\\text.py:1461: FutureWarning: Calling float on a single element Series is deprecated and will raise a TypeError in the future. Use float(ser.iloc[0]) instead\n",
      "  x = float(self.convert_xunits(x))\n",
      "C:\\Users\\MarinaBishay\\miniconda3\\Lib\\site-packages\\matplotlib\\text.py:1463: FutureWarning: Calling float on a single element Series is deprecated and will raise a TypeError in the future. Use float(ser.iloc[0]) instead\n",
      "  y = float(self.convert_yunits(y))\n",
      "C:\\Users\\MarinaBishay\\miniconda3\\Lib\\site-packages\\matplotlib\\text.py:753: FutureWarning: Calling float on a single element Series is deprecated and will raise a TypeError in the future. Use float(ser.iloc[0]) instead\n",
      "  posx = float(self.convert_xunits(self._x))\n",
      "C:\\Users\\MarinaBishay\\miniconda3\\Lib\\site-packages\\matplotlib\\text.py:754: FutureWarning: Calling float on a single element Series is deprecated and will raise a TypeError in the future. Use float(ser.iloc[0]) instead\n",
      "  posy = float(self.convert_yunits(self._y))\n",
      "C:\\Users\\MarinaBishay\\miniconda3\\Lib\\site-packages\\matplotlib\\text.py:1461: FutureWarning: Calling float on a single element Series is deprecated and will raise a TypeError in the future. Use float(ser.iloc[0]) instead\n",
      "  x = float(self.convert_xunits(x))\n",
      "C:\\Users\\MarinaBishay\\miniconda3\\Lib\\site-packages\\matplotlib\\text.py:1463: FutureWarning: Calling float on a single element Series is deprecated and will raise a TypeError in the future. Use float(ser.iloc[0]) instead\n",
      "  y = float(self.convert_yunits(y))\n",
      "C:\\Users\\MarinaBishay\\miniconda3\\Lib\\site-packages\\matplotlib\\text.py:753: FutureWarning: Calling float on a single element Series is deprecated and will raise a TypeError in the future. Use float(ser.iloc[0]) instead\n",
      "  posx = float(self.convert_xunits(self._x))\n",
      "C:\\Users\\MarinaBishay\\miniconda3\\Lib\\site-packages\\matplotlib\\text.py:754: FutureWarning: Calling float on a single element Series is deprecated and will raise a TypeError in the future. Use float(ser.iloc[0]) instead\n",
      "  posy = float(self.convert_yunits(self._y))\n",
      "C:\\Users\\MarinaBishay\\miniconda3\\Lib\\site-packages\\matplotlib\\text.py:1461: FutureWarning: Calling float on a single element Series is deprecated and will raise a TypeError in the future. Use float(ser.iloc[0]) instead\n",
      "  x = float(self.convert_xunits(x))\n",
      "C:\\Users\\MarinaBishay\\miniconda3\\Lib\\site-packages\\matplotlib\\text.py:1463: FutureWarning: Calling float on a single element Series is deprecated and will raise a TypeError in the future. Use float(ser.iloc[0]) instead\n",
      "  y = float(self.convert_yunits(y))\n",
      "C:\\Users\\MarinaBishay\\miniconda3\\Lib\\site-packages\\matplotlib\\text.py:753: FutureWarning: Calling float on a single element Series is deprecated and will raise a TypeError in the future. Use float(ser.iloc[0]) instead\n",
      "  posx = float(self.convert_xunits(self._x))\n",
      "C:\\Users\\MarinaBishay\\miniconda3\\Lib\\site-packages\\matplotlib\\text.py:754: FutureWarning: Calling float on a single element Series is deprecated and will raise a TypeError in the future. Use float(ser.iloc[0]) instead\n",
      "  posy = float(self.convert_yunits(self._y))\n",
      "C:\\Users\\MarinaBishay\\miniconda3\\Lib\\site-packages\\matplotlib\\text.py:1461: FutureWarning: Calling float on a single element Series is deprecated and will raise a TypeError in the future. Use float(ser.iloc[0]) instead\n",
      "  x = float(self.convert_xunits(x))\n",
      "C:\\Users\\MarinaBishay\\miniconda3\\Lib\\site-packages\\matplotlib\\text.py:1463: FutureWarning: Calling float on a single element Series is deprecated and will raise a TypeError in the future. Use float(ser.iloc[0]) instead\n",
      "  y = float(self.convert_yunits(y))\n",
      "C:\\Users\\MarinaBishay\\miniconda3\\Lib\\site-packages\\matplotlib\\text.py:753: FutureWarning: Calling float on a single element Series is deprecated and will raise a TypeError in the future. Use float(ser.iloc[0]) instead\n",
      "  posx = float(self.convert_xunits(self._x))\n",
      "C:\\Users\\MarinaBishay\\miniconda3\\Lib\\site-packages\\matplotlib\\text.py:754: FutureWarning: Calling float on a single element Series is deprecated and will raise a TypeError in the future. Use float(ser.iloc[0]) instead\n",
      "  posy = float(self.convert_yunits(self._y))\n",
      "C:\\Users\\MarinaBishay\\miniconda3\\Lib\\site-packages\\matplotlib\\text.py:1461: FutureWarning: Calling float on a single element Series is deprecated and will raise a TypeError in the future. Use float(ser.iloc[0]) instead\n",
      "  x = float(self.convert_xunits(x))\n",
      "C:\\Users\\MarinaBishay\\miniconda3\\Lib\\site-packages\\matplotlib\\text.py:1463: FutureWarning: Calling float on a single element Series is deprecated and will raise a TypeError in the future. Use float(ser.iloc[0]) instead\n",
      "  y = float(self.convert_yunits(y))\n",
      "C:\\Users\\MarinaBishay\\miniconda3\\Lib\\site-packages\\matplotlib\\text.py:753: FutureWarning: Calling float on a single element Series is deprecated and will raise a TypeError in the future. Use float(ser.iloc[0]) instead\n",
      "  posx = float(self.convert_xunits(self._x))\n",
      "C:\\Users\\MarinaBishay\\miniconda3\\Lib\\site-packages\\matplotlib\\text.py:754: FutureWarning: Calling float on a single element Series is deprecated and will raise a TypeError in the future. Use float(ser.iloc[0]) instead\n",
      "  posy = float(self.convert_yunits(self._y))\n",
      "C:\\Users\\MarinaBishay\\miniconda3\\Lib\\site-packages\\matplotlib\\text.py:1461: FutureWarning: Calling float on a single element Series is deprecated and will raise a TypeError in the future. Use float(ser.iloc[0]) instead\n",
      "  x = float(self.convert_xunits(x))\n",
      "C:\\Users\\MarinaBishay\\miniconda3\\Lib\\site-packages\\matplotlib\\text.py:1463: FutureWarning: Calling float on a single element Series is deprecated and will raise a TypeError in the future. Use float(ser.iloc[0]) instead\n",
      "  y = float(self.convert_yunits(y))\n",
      "C:\\Users\\MarinaBishay\\miniconda3\\Lib\\site-packages\\matplotlib\\text.py:753: FutureWarning: Calling float on a single element Series is deprecated and will raise a TypeError in the future. Use float(ser.iloc[0]) instead\n",
      "  posx = float(self.convert_xunits(self._x))\n",
      "C:\\Users\\MarinaBishay\\miniconda3\\Lib\\site-packages\\matplotlib\\text.py:754: FutureWarning: Calling float on a single element Series is deprecated and will raise a TypeError in the future. Use float(ser.iloc[0]) instead\n",
      "  posy = float(self.convert_yunits(self._y))\n",
      "C:\\Users\\MarinaBishay\\miniconda3\\Lib\\site-packages\\matplotlib\\text.py:1461: FutureWarning: Calling float on a single element Series is deprecated and will raise a TypeError in the future. Use float(ser.iloc[0]) instead\n",
      "  x = float(self.convert_xunits(x))\n",
      "C:\\Users\\MarinaBishay\\miniconda3\\Lib\\site-packages\\matplotlib\\text.py:1463: FutureWarning: Calling float on a single element Series is deprecated and will raise a TypeError in the future. Use float(ser.iloc[0]) instead\n",
      "  y = float(self.convert_yunits(y))\n",
      "C:\\Users\\MarinaBishay\\miniconda3\\Lib\\site-packages\\matplotlib\\text.py:753: FutureWarning: Calling float on a single element Series is deprecated and will raise a TypeError in the future. Use float(ser.iloc[0]) instead\n",
      "  posx = float(self.convert_xunits(self._x))\n",
      "C:\\Users\\MarinaBishay\\miniconda3\\Lib\\site-packages\\matplotlib\\text.py:754: FutureWarning: Calling float on a single element Series is deprecated and will raise a TypeError in the future. Use float(ser.iloc[0]) instead\n",
      "  posy = float(self.convert_yunits(self._y))\n",
      "C:\\Users\\MarinaBishay\\miniconda3\\Lib\\site-packages\\matplotlib\\text.py:1461: FutureWarning: Calling float on a single element Series is deprecated and will raise a TypeError in the future. Use float(ser.iloc[0]) instead\n",
      "  x = float(self.convert_xunits(x))\n",
      "C:\\Users\\MarinaBishay\\miniconda3\\Lib\\site-packages\\matplotlib\\text.py:1463: FutureWarning: Calling float on a single element Series is deprecated and will raise a TypeError in the future. Use float(ser.iloc[0]) instead\n",
      "  y = float(self.convert_yunits(y))\n",
      "C:\\Users\\MarinaBishay\\miniconda3\\Lib\\site-packages\\matplotlib\\text.py:753: FutureWarning: Calling float on a single element Series is deprecated and will raise a TypeError in the future. Use float(ser.iloc[0]) instead\n",
      "  posx = float(self.convert_xunits(self._x))\n",
      "C:\\Users\\MarinaBishay\\miniconda3\\Lib\\site-packages\\matplotlib\\text.py:754: FutureWarning: Calling float on a single element Series is deprecated and will raise a TypeError in the future. Use float(ser.iloc[0]) instead\n",
      "  posy = float(self.convert_yunits(self._y))\n",
      "C:\\Users\\MarinaBishay\\miniconda3\\Lib\\site-packages\\matplotlib\\text.py:1461: FutureWarning: Calling float on a single element Series is deprecated and will raise a TypeError in the future. Use float(ser.iloc[0]) instead\n",
      "  x = float(self.convert_xunits(x))\n",
      "C:\\Users\\MarinaBishay\\miniconda3\\Lib\\site-packages\\matplotlib\\text.py:1463: FutureWarning: Calling float on a single element Series is deprecated and will raise a TypeError in the future. Use float(ser.iloc[0]) instead\n",
      "  y = float(self.convert_yunits(y))\n",
      "C:\\Users\\MarinaBishay\\miniconda3\\Lib\\site-packages\\matplotlib\\text.py:753: FutureWarning: Calling float on a single element Series is deprecated and will raise a TypeError in the future. Use float(ser.iloc[0]) instead\n",
      "  posx = float(self.convert_xunits(self._x))\n",
      "C:\\Users\\MarinaBishay\\miniconda3\\Lib\\site-packages\\matplotlib\\text.py:754: FutureWarning: Calling float on a single element Series is deprecated and will raise a TypeError in the future. Use float(ser.iloc[0]) instead\n",
      "  posy = float(self.convert_yunits(self._y))\n",
      "C:\\Users\\MarinaBishay\\miniconda3\\Lib\\site-packages\\matplotlib\\text.py:1461: FutureWarning: Calling float on a single element Series is deprecated and will raise a TypeError in the future. Use float(ser.iloc[0]) instead\n",
      "  x = float(self.convert_xunits(x))\n",
      "C:\\Users\\MarinaBishay\\miniconda3\\Lib\\site-packages\\matplotlib\\text.py:1463: FutureWarning: Calling float on a single element Series is deprecated and will raise a TypeError in the future. Use float(ser.iloc[0]) instead\n",
      "  y = float(self.convert_yunits(y))\n",
      "C:\\Users\\MarinaBishay\\miniconda3\\Lib\\site-packages\\matplotlib\\text.py:753: FutureWarning: Calling float on a single element Series is deprecated and will raise a TypeError in the future. Use float(ser.iloc[0]) instead\n",
      "  posx = float(self.convert_xunits(self._x))\n",
      "C:\\Users\\MarinaBishay\\miniconda3\\Lib\\site-packages\\matplotlib\\text.py:754: FutureWarning: Calling float on a single element Series is deprecated and will raise a TypeError in the future. Use float(ser.iloc[0]) instead\n",
      "  posy = float(self.convert_yunits(self._y))\n",
      "C:\\Users\\MarinaBishay\\miniconda3\\Lib\\site-packages\\matplotlib\\text.py:1461: FutureWarning: Calling float on a single element Series is deprecated and will raise a TypeError in the future. Use float(ser.iloc[0]) instead\n",
      "  x = float(self.convert_xunits(x))\n",
      "C:\\Users\\MarinaBishay\\miniconda3\\Lib\\site-packages\\matplotlib\\text.py:1463: FutureWarning: Calling float on a single element Series is deprecated and will raise a TypeError in the future. Use float(ser.iloc[0]) instead\n",
      "  y = float(self.convert_yunits(y))\n",
      "C:\\Users\\MarinaBishay\\miniconda3\\Lib\\site-packages\\matplotlib\\text.py:753: FutureWarning: Calling float on a single element Series is deprecated and will raise a TypeError in the future. Use float(ser.iloc[0]) instead\n",
      "  posx = float(self.convert_xunits(self._x))\n",
      "C:\\Users\\MarinaBishay\\miniconda3\\Lib\\site-packages\\matplotlib\\text.py:754: FutureWarning: Calling float on a single element Series is deprecated and will raise a TypeError in the future. Use float(ser.iloc[0]) instead\n",
      "  posy = float(self.convert_yunits(self._y))\n",
      "C:\\Users\\MarinaBishay\\miniconda3\\Lib\\site-packages\\matplotlib\\text.py:1461: FutureWarning: Calling float on a single element Series is deprecated and will raise a TypeError in the future. Use float(ser.iloc[0]) instead\n",
      "  x = float(self.convert_xunits(x))\n",
      "C:\\Users\\MarinaBishay\\miniconda3\\Lib\\site-packages\\matplotlib\\text.py:1463: FutureWarning: Calling float on a single element Series is deprecated and will raise a TypeError in the future. Use float(ser.iloc[0]) instead\n",
      "  y = float(self.convert_yunits(y))\n",
      "C:\\Users\\MarinaBishay\\miniconda3\\Lib\\site-packages\\matplotlib\\text.py:753: FutureWarning: Calling float on a single element Series is deprecated and will raise a TypeError in the future. Use float(ser.iloc[0]) instead\n",
      "  posx = float(self.convert_xunits(self._x))\n",
      "C:\\Users\\MarinaBishay\\miniconda3\\Lib\\site-packages\\matplotlib\\text.py:754: FutureWarning: Calling float on a single element Series is deprecated and will raise a TypeError in the future. Use float(ser.iloc[0]) instead\n",
      "  posy = float(self.convert_yunits(self._y))\n",
      "C:\\Users\\MarinaBishay\\miniconda3\\Lib\\site-packages\\matplotlib\\text.py:1461: FutureWarning: Calling float on a single element Series is deprecated and will raise a TypeError in the future. Use float(ser.iloc[0]) instead\n",
      "  x = float(self.convert_xunits(x))\n",
      "C:\\Users\\MarinaBishay\\miniconda3\\Lib\\site-packages\\matplotlib\\text.py:1463: FutureWarning: Calling float on a single element Series is deprecated and will raise a TypeError in the future. Use float(ser.iloc[0]) instead\n",
      "  y = float(self.convert_yunits(y))\n",
      "C:\\Users\\MarinaBishay\\miniconda3\\Lib\\site-packages\\matplotlib\\text.py:753: FutureWarning: Calling float on a single element Series is deprecated and will raise a TypeError in the future. Use float(ser.iloc[0]) instead\n",
      "  posx = float(self.convert_xunits(self._x))\n",
      "C:\\Users\\MarinaBishay\\miniconda3\\Lib\\site-packages\\matplotlib\\text.py:754: FutureWarning: Calling float on a single element Series is deprecated and will raise a TypeError in the future. Use float(ser.iloc[0]) instead\n",
      "  posy = float(self.convert_yunits(self._y))\n",
      "C:\\Users\\MarinaBishay\\miniconda3\\Lib\\site-packages\\matplotlib\\text.py:1461: FutureWarning: Calling float on a single element Series is deprecated and will raise a TypeError in the future. Use float(ser.iloc[0]) instead\n",
      "  x = float(self.convert_xunits(x))\n",
      "C:\\Users\\MarinaBishay\\miniconda3\\Lib\\site-packages\\matplotlib\\text.py:1463: FutureWarning: Calling float on a single element Series is deprecated and will raise a TypeError in the future. Use float(ser.iloc[0]) instead\n",
      "  y = float(self.convert_yunits(y))\n",
      "C:\\Users\\MarinaBishay\\miniconda3\\Lib\\site-packages\\matplotlib\\text.py:753: FutureWarning: Calling float on a single element Series is deprecated and will raise a TypeError in the future. Use float(ser.iloc[0]) instead\n",
      "  posx = float(self.convert_xunits(self._x))\n",
      "C:\\Users\\MarinaBishay\\miniconda3\\Lib\\site-packages\\matplotlib\\text.py:754: FutureWarning: Calling float on a single element Series is deprecated and will raise a TypeError in the future. Use float(ser.iloc[0]) instead\n",
      "  posy = float(self.convert_yunits(self._y))\n",
      "C:\\Users\\MarinaBishay\\miniconda3\\Lib\\site-packages\\matplotlib\\text.py:1461: FutureWarning: Calling float on a single element Series is deprecated and will raise a TypeError in the future. Use float(ser.iloc[0]) instead\n",
      "  x = float(self.convert_xunits(x))\n",
      "C:\\Users\\MarinaBishay\\miniconda3\\Lib\\site-packages\\matplotlib\\text.py:1463: FutureWarning: Calling float on a single element Series is deprecated and will raise a TypeError in the future. Use float(ser.iloc[0]) instead\n",
      "  y = float(self.convert_yunits(y))\n",
      "C:\\Users\\MarinaBishay\\miniconda3\\Lib\\site-packages\\matplotlib\\text.py:753: FutureWarning: Calling float on a single element Series is deprecated and will raise a TypeError in the future. Use float(ser.iloc[0]) instead\n",
      "  posx = float(self.convert_xunits(self._x))\n",
      "C:\\Users\\MarinaBishay\\miniconda3\\Lib\\site-packages\\matplotlib\\text.py:754: FutureWarning: Calling float on a single element Series is deprecated and will raise a TypeError in the future. Use float(ser.iloc[0]) instead\n",
      "  posy = float(self.convert_yunits(self._y))\n",
      "C:\\Users\\MarinaBishay\\miniconda3\\Lib\\site-packages\\matplotlib\\text.py:1461: FutureWarning: Calling float on a single element Series is deprecated and will raise a TypeError in the future. Use float(ser.iloc[0]) instead\n",
      "  x = float(self.convert_xunits(x))\n",
      "C:\\Users\\MarinaBishay\\miniconda3\\Lib\\site-packages\\matplotlib\\text.py:1463: FutureWarning: Calling float on a single element Series is deprecated and will raise a TypeError in the future. Use float(ser.iloc[0]) instead\n",
      "  y = float(self.convert_yunits(y))\n",
      "C:\\Users\\MarinaBishay\\miniconda3\\Lib\\site-packages\\matplotlib\\text.py:753: FutureWarning: Calling float on a single element Series is deprecated and will raise a TypeError in the future. Use float(ser.iloc[0]) instead\n",
      "  posx = float(self.convert_xunits(self._x))\n",
      "C:\\Users\\MarinaBishay\\miniconda3\\Lib\\site-packages\\matplotlib\\text.py:754: FutureWarning: Calling float on a single element Series is deprecated and will raise a TypeError in the future. Use float(ser.iloc[0]) instead\n",
      "  posy = float(self.convert_yunits(self._y))\n",
      "C:\\Users\\MarinaBishay\\miniconda3\\Lib\\site-packages\\matplotlib\\text.py:1461: FutureWarning: Calling float on a single element Series is deprecated and will raise a TypeError in the future. Use float(ser.iloc[0]) instead\n",
      "  x = float(self.convert_xunits(x))\n",
      "C:\\Users\\MarinaBishay\\miniconda3\\Lib\\site-packages\\matplotlib\\text.py:1463: FutureWarning: Calling float on a single element Series is deprecated and will raise a TypeError in the future. Use float(ser.iloc[0]) instead\n",
      "  y = float(self.convert_yunits(y))\n",
      "C:\\Users\\MarinaBishay\\miniconda3\\Lib\\site-packages\\matplotlib\\text.py:753: FutureWarning: Calling float on a single element Series is deprecated and will raise a TypeError in the future. Use float(ser.iloc[0]) instead\n",
      "  posx = float(self.convert_xunits(self._x))\n",
      "C:\\Users\\MarinaBishay\\miniconda3\\Lib\\site-packages\\matplotlib\\text.py:754: FutureWarning: Calling float on a single element Series is deprecated and will raise a TypeError in the future. Use float(ser.iloc[0]) instead\n",
      "  posy = float(self.convert_yunits(self._y))\n",
      "C:\\Users\\MarinaBishay\\miniconda3\\Lib\\site-packages\\matplotlib\\text.py:1461: FutureWarning: Calling float on a single element Series is deprecated and will raise a TypeError in the future. Use float(ser.iloc[0]) instead\n",
      "  x = float(self.convert_xunits(x))\n",
      "C:\\Users\\MarinaBishay\\miniconda3\\Lib\\site-packages\\matplotlib\\text.py:1463: FutureWarning: Calling float on a single element Series is deprecated and will raise a TypeError in the future. Use float(ser.iloc[0]) instead\n",
      "  y = float(self.convert_yunits(y))\n",
      "C:\\Users\\MarinaBishay\\miniconda3\\Lib\\site-packages\\matplotlib\\text.py:753: FutureWarning: Calling float on a single element Series is deprecated and will raise a TypeError in the future. Use float(ser.iloc[0]) instead\n",
      "  posx = float(self.convert_xunits(self._x))\n",
      "C:\\Users\\MarinaBishay\\miniconda3\\Lib\\site-packages\\matplotlib\\text.py:754: FutureWarning: Calling float on a single element Series is deprecated and will raise a TypeError in the future. Use float(ser.iloc[0]) instead\n",
      "  posy = float(self.convert_yunits(self._y))\n",
      "C:\\Users\\MarinaBishay\\miniconda3\\Lib\\site-packages\\matplotlib\\text.py:1461: FutureWarning: Calling float on a single element Series is deprecated and will raise a TypeError in the future. Use float(ser.iloc[0]) instead\n",
      "  x = float(self.convert_xunits(x))\n",
      "C:\\Users\\MarinaBishay\\miniconda3\\Lib\\site-packages\\matplotlib\\text.py:1463: FutureWarning: Calling float on a single element Series is deprecated and will raise a TypeError in the future. Use float(ser.iloc[0]) instead\n",
      "  y = float(self.convert_yunits(y))\n",
      "C:\\Users\\MarinaBishay\\miniconda3\\Lib\\site-packages\\matplotlib\\text.py:753: FutureWarning: Calling float on a single element Series is deprecated and will raise a TypeError in the future. Use float(ser.iloc[0]) instead\n",
      "  posx = float(self.convert_xunits(self._x))\n",
      "C:\\Users\\MarinaBishay\\miniconda3\\Lib\\site-packages\\matplotlib\\text.py:754: FutureWarning: Calling float on a single element Series is deprecated and will raise a TypeError in the future. Use float(ser.iloc[0]) instead\n",
      "  posy = float(self.convert_yunits(self._y))\n",
      "C:\\Users\\MarinaBishay\\miniconda3\\Lib\\site-packages\\matplotlib\\text.py:1461: FutureWarning: Calling float on a single element Series is deprecated and will raise a TypeError in the future. Use float(ser.iloc[0]) instead\n",
      "  x = float(self.convert_xunits(x))\n",
      "C:\\Users\\MarinaBishay\\miniconda3\\Lib\\site-packages\\matplotlib\\text.py:1463: FutureWarning: Calling float on a single element Series is deprecated and will raise a TypeError in the future. Use float(ser.iloc[0]) instead\n",
      "  y = float(self.convert_yunits(y))\n",
      "C:\\Users\\MarinaBishay\\miniconda3\\Lib\\site-packages\\matplotlib\\text.py:753: FutureWarning: Calling float on a single element Series is deprecated and will raise a TypeError in the future. Use float(ser.iloc[0]) instead\n",
      "  posx = float(self.convert_xunits(self._x))\n",
      "C:\\Users\\MarinaBishay\\miniconda3\\Lib\\site-packages\\matplotlib\\text.py:754: FutureWarning: Calling float on a single element Series is deprecated and will raise a TypeError in the future. Use float(ser.iloc[0]) instead\n",
      "  posy = float(self.convert_yunits(self._y))\n",
      "C:\\Users\\MarinaBishay\\miniconda3\\Lib\\site-packages\\matplotlib\\text.py:1461: FutureWarning: Calling float on a single element Series is deprecated and will raise a TypeError in the future. Use float(ser.iloc[0]) instead\n",
      "  x = float(self.convert_xunits(x))\n",
      "C:\\Users\\MarinaBishay\\miniconda3\\Lib\\site-packages\\matplotlib\\text.py:1463: FutureWarning: Calling float on a single element Series is deprecated and will raise a TypeError in the future. Use float(ser.iloc[0]) instead\n",
      "  y = float(self.convert_yunits(y))\n",
      "C:\\Users\\MarinaBishay\\miniconda3\\Lib\\site-packages\\matplotlib\\text.py:753: FutureWarning: Calling float on a single element Series is deprecated and will raise a TypeError in the future. Use float(ser.iloc[0]) instead\n",
      "  posx = float(self.convert_xunits(self._x))\n",
      "C:\\Users\\MarinaBishay\\miniconda3\\Lib\\site-packages\\matplotlib\\text.py:754: FutureWarning: Calling float on a single element Series is deprecated and will raise a TypeError in the future. Use float(ser.iloc[0]) instead\n",
      "  posy = float(self.convert_yunits(self._y))\n",
      "C:\\Users\\MarinaBishay\\miniconda3\\Lib\\site-packages\\matplotlib\\text.py:1461: FutureWarning: Calling float on a single element Series is deprecated and will raise a TypeError in the future. Use float(ser.iloc[0]) instead\n",
      "  x = float(self.convert_xunits(x))\n",
      "C:\\Users\\MarinaBishay\\miniconda3\\Lib\\site-packages\\matplotlib\\text.py:1463: FutureWarning: Calling float on a single element Series is deprecated and will raise a TypeError in the future. Use float(ser.iloc[0]) instead\n",
      "  y = float(self.convert_yunits(y))\n",
      "C:\\Users\\MarinaBishay\\miniconda3\\Lib\\site-packages\\matplotlib\\text.py:753: FutureWarning: Calling float on a single element Series is deprecated and will raise a TypeError in the future. Use float(ser.iloc[0]) instead\n",
      "  posx = float(self.convert_xunits(self._x))\n",
      "C:\\Users\\MarinaBishay\\miniconda3\\Lib\\site-packages\\matplotlib\\text.py:754: FutureWarning: Calling float on a single element Series is deprecated and will raise a TypeError in the future. Use float(ser.iloc[0]) instead\n",
      "  posy = float(self.convert_yunits(self._y))\n",
      "C:\\Users\\MarinaBishay\\miniconda3\\Lib\\site-packages\\matplotlib\\text.py:1461: FutureWarning: Calling float on a single element Series is deprecated and will raise a TypeError in the future. Use float(ser.iloc[0]) instead\n",
      "  x = float(self.convert_xunits(x))\n",
      "C:\\Users\\MarinaBishay\\miniconda3\\Lib\\site-packages\\matplotlib\\text.py:1463: FutureWarning: Calling float on a single element Series is deprecated and will raise a TypeError in the future. Use float(ser.iloc[0]) instead\n",
      "  y = float(self.convert_yunits(y))\n",
      "C:\\Users\\MarinaBishay\\miniconda3\\Lib\\site-packages\\matplotlib\\text.py:753: FutureWarning: Calling float on a single element Series is deprecated and will raise a TypeError in the future. Use float(ser.iloc[0]) instead\n",
      "  posx = float(self.convert_xunits(self._x))\n",
      "C:\\Users\\MarinaBishay\\miniconda3\\Lib\\site-packages\\matplotlib\\text.py:754: FutureWarning: Calling float on a single element Series is deprecated and will raise a TypeError in the future. Use float(ser.iloc[0]) instead\n",
      "  posy = float(self.convert_yunits(self._y))\n",
      "C:\\Users\\MarinaBishay\\miniconda3\\Lib\\site-packages\\matplotlib\\text.py:1461: FutureWarning: Calling float on a single element Series is deprecated and will raise a TypeError in the future. Use float(ser.iloc[0]) instead\n",
      "  x = float(self.convert_xunits(x))\n",
      "C:\\Users\\MarinaBishay\\miniconda3\\Lib\\site-packages\\matplotlib\\text.py:1463: FutureWarning: Calling float on a single element Series is deprecated and will raise a TypeError in the future. Use float(ser.iloc[0]) instead\n",
      "  y = float(self.convert_yunits(y))\n",
      "C:\\Users\\MarinaBishay\\miniconda3\\Lib\\site-packages\\matplotlib\\text.py:753: FutureWarning: Calling float on a single element Series is deprecated and will raise a TypeError in the future. Use float(ser.iloc[0]) instead\n",
      "  posx = float(self.convert_xunits(self._x))\n",
      "C:\\Users\\MarinaBishay\\miniconda3\\Lib\\site-packages\\matplotlib\\text.py:754: FutureWarning: Calling float on a single element Series is deprecated and will raise a TypeError in the future. Use float(ser.iloc[0]) instead\n",
      "  posy = float(self.convert_yunits(self._y))\n",
      "C:\\Users\\MarinaBishay\\miniconda3\\Lib\\site-packages\\matplotlib\\text.py:1461: FutureWarning: Calling float on a single element Series is deprecated and will raise a TypeError in the future. Use float(ser.iloc[0]) instead\n",
      "  x = float(self.convert_xunits(x))\n",
      "C:\\Users\\MarinaBishay\\miniconda3\\Lib\\site-packages\\matplotlib\\text.py:1463: FutureWarning: Calling float on a single element Series is deprecated and will raise a TypeError in the future. Use float(ser.iloc[0]) instead\n",
      "  y = float(self.convert_yunits(y))\n",
      "C:\\Users\\MarinaBishay\\miniconda3\\Lib\\site-packages\\matplotlib\\text.py:753: FutureWarning: Calling float on a single element Series is deprecated and will raise a TypeError in the future. Use float(ser.iloc[0]) instead\n",
      "  posx = float(self.convert_xunits(self._x))\n",
      "C:\\Users\\MarinaBishay\\miniconda3\\Lib\\site-packages\\matplotlib\\text.py:754: FutureWarning: Calling float on a single element Series is deprecated and will raise a TypeError in the future. Use float(ser.iloc[0]) instead\n",
      "  posy = float(self.convert_yunits(self._y))\n"
     ]
    }
   ],
   "source": [
    "for year in range(1960, 2016):\n",
    "    plt.figure(figsize=(10,8))\n",
    "   \n",
    "    df_subset = df[df['year'] == year]\n",
    "    size= df_subset['total_population']*1e-6\n",
    "   \n",
    "    sns.scatterplot(x = 'life expectancy', y='fertility', hue ='continent', size = size, sizes= (5,1000), data =df_subset, alpha =0.5)\n",
    "    plt.title(f'Scatter Plot - {year}', fontdict={'fontsize': 20, 'fontweight': 'bold', 'color': 'black'})\n",
    "    plt.ylabel('Fertility rate', fontdict={'fontsize': 14, 'fontweight': 'bold', 'color': 'black'}, labelpad = 20)\n",
    "    plt.xlabel('Life Expectancy', fontdict={'fontsize': 14, 'fontweight': 'bold', 'color': 'black'}, labelpad= 20)\n",
    "    plt.xticks(rotation = 45)  \n",
    "    plt.grid(True, alpha =0.5)\n",
    "    plt.axis([40,85,0,9.5])\n",
    "    annotated_countries = ['China', 'India', 'United States', 'Germany']\n",
    "    for country in annotated_countries:\n",
    "        country_data = df_subset[df_subset['country'] == country]\n",
    "        plt.annotate(country, (country_data['life expectancy'], country_data['fertility']))\n",
    "\n",
    "\n",
    "   \n",
    "    plt.legend(bbox_to_anchor=(1.1, 1),loc = 'upper right', frameon =False)\n",
    "  \n",
    "    filename =f'../plots/plot_{year}.png'\n",
    "    plt.savefig(filename)\n",
    "    plt.close()\n"
   ]
  },
  {
   "cell_type": "code",
   "execution_count": 75,
   "id": "f7816816-f0c5-4ab2-ad4a-edb88aea4ee7",
   "metadata": {},
   "outputs": [
    {
     "name": "stderr",
     "output_type": "stream",
     "text": [
      "C:\\Users\\MarinaBishay\\AppData\\Local\\Temp\\ipykernel_9368\\1812372919.py:7: DeprecationWarning: Starting with ImageIO v3 the behavior of this function will switch to that of iio.v3.imread. To keep the current behavior (and make this warning disappear) use `import imageio.v2 as imageio` or call `imageio.v2.imread` directly.\n",
      "  images.append(imageio.imread(filename))\n"
     ]
    }
   ],
   "source": [
    "import imageio\n",
    "\n",
    "images = []\n",
    "\n",
    "for year in range(1969, 2016):\n",
    "    filename = f'../plots/plot_{year}.png'\n",
    "    images.append(imageio.imread(filename))\n",
    "\n",
    "imageio.mimsave('../plots/animated_scatterplot.gif', images, fps =2)\n",
    "sns.set_theme(style=\"whitegrid\")\n",
    "plt.show()"
   ]
  }
 ],
 "metadata": {
  "kernelspec": {
   "display_name": "Python 3 (ipykernel)",
   "language": "python",
   "name": "python3"
  },
  "language_info": {
   "codemirror_mode": {
    "name": "ipython",
    "version": 3
   },
   "file_extension": ".py",
   "mimetype": "text/x-python",
   "name": "python",
   "nbconvert_exporter": "python",
   "pygments_lexer": "ipython3",
   "version": "3.11.5"
  }
 },
 "nbformat": 4,
 "nbformat_minor": 5
}
